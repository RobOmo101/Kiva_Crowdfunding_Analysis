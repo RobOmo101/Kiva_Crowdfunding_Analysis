{
 "cells": [
  {
   "attachments": {},
   "cell_type": "markdown",
   "metadata": {},
   "source": [
    "# Can I Predict the Amount of a Loan a Borrower Will Receive on Kiva?\n",
    "\n",
    "Kiva is an international non-profit that hosts a crowdfunding platform that connects prospective borrowers with lenders to receive interest-free capital for loans of up to USD10,000 (or loans with interest above USD10,000). Kaggle, a platform that is home to machine learning open source data sets and competitions, hosted a \"Data Science for Good\" competition to generate some targeted machine learning models to predict information about loans and borrowers (https://www.kaggle.com/kiva/data-science-for-good-kiva-crowdfunding/data).\n",
    "\n",
    "\n",
    "I decided to determine if I could predict the amount of a kiva loan based on certain information about the borrower and loan (e.g., poverty level, gender, etc.).  To answer this question, I used the kiva data provided from the Kaggle competition and collection some external data on poverty (United Nations Development Programme Human Development Index data) and on presence of armed conflicts in the location of the borrower (Armed Conflict Location and Event Database project data).\n",
    "\n",
    "I applied several different machine learning models (decision tree, random forest, linear regression) to the data in my analysis  while trying to predict loan amounts below.  Please enjoy reading it and let me know if you have any questions.  There is still a lot to be done to tighten up these models, but this is my starting point as I continue to optimize my approach.\n",
    "\n",
    "Have fun!\n",
    "\n",
    "-Carole\n",
    "\n",
    "## Data Sources\n",
    "\n",
    "Kaggle-Kiva data from https://www.kaggle.com/kiva/data-science-for-good-kiva-crowdfunding/data\n",
    "ACLED data from https://www.acleddata.com/data/\n",
    "UNDP data and image from http://hdr.undp.org/en/content/human-development-index-hdi"
   ]
  },
  {
   "cell_type": "markdown",
   "metadata": {},
   "source": [
    "## Some up-front cleaning of the data in Excel before I imported it here\n",
    "\n",
    "- Gender: previously annotated as list delimited by commas with \"male\" or \"female\" in different orders, representing the different borrowers; I transposed the data into one column either identifying all borrowers as \"male,\" \"female,\" \"both,\" or \"not provided\" (for n/a)\n",
    "- Country Names: had to compare country names from loan data; if it was not included in the HDI list, examined the name and adjusted the spelling to match\n",
    "\n",
    "- Timeframe: Loan and ACLED data is since 2014, spread out over several years. For UNDP HDI, I just took the HDI value for 2014.\n",
    "- HDI Data: After some data cleaning to handle mismatched country spellings, I imported the HDI score for the borrower's country for every loan.\n",
    "    - compared the country of the kiva borrower to UN list of Human Development Index (HDI) scores; inserted a column of the country's HDI score from 2014 (or the most recent score published by the UN, which was from 2008 for Kosovo, Somalia, the U.S. Virgin Islands, Guam, Puerto Rico, Cote D'Ivoire)\n",
    "- ACLED Data: I compared the countries in the loan data with the countries listed in the ACLED database for having a conflict since 2014 (I was not sophisticated enough in my approach yet to handle comparing regions or latitude/longitude).  If the country location of the loan recipient had a conflict in the ACLED database, the value was coded \"yes\" (\"no\" if it did not).\n"
   ]
  },
  {
   "cell_type": "markdown",
   "metadata": {},
   "source": [
    "# Read in and Examine the Data"
   ]
  },
  {
   "cell_type": "code",
   "execution_count": 1,
   "metadata": {},
   "outputs": [],
   "source": [
    "#Read in data and import libraries\n",
    "import matplotlib.pyplot as plt\n",
    "% matplotlib inline\n",
    "import pandas as pd\n",
    "import numpy as np\n",
    "import seaborn as sns\n",
    "#kiva = pd.read_csv(\"C:\\\\Users\\\\carol\\\\Documents\\\\Dev\\\\Kiva_project\\\\Kiva_Crowdfunding_Analysis-master\\\\Kiva_projectdata.csv\")\n",
    "kiva = pd.read_csv('Kiva_projectdata.csv')"
   ]
  },
  {
   "cell_type": "code",
   "execution_count": 2,
   "metadata": {},
   "outputs": [
    {
     "data": {
      "text/html": [
       "<div>\n",
       "<style scoped>\n",
       "    .dataframe tbody tr th:only-of-type {\n",
       "        vertical-align: middle;\n",
       "    }\n",
       "\n",
       "    .dataframe tbody tr th {\n",
       "        vertical-align: top;\n",
       "    }\n",
       "\n",
       "    .dataframe thead th {\n",
       "        text-align: right;\n",
       "    }\n",
       "</style>\n",
       "<table border=\"1\" class=\"dataframe\">\n",
       "  <thead>\n",
       "    <tr style=\"text-align: right;\">\n",
       "      <th></th>\n",
       "      <th>id</th>\n",
       "      <th>loan_amount</th>\n",
       "      <th>activity</th>\n",
       "      <th>sector</th>\n",
       "      <th>country</th>\n",
       "      <th>region</th>\n",
       "      <th>Conflict_ACLED</th>\n",
       "      <th>HumDevInd</th>\n",
       "      <th>partner_id</th>\n",
       "      <th>posted_time</th>\n",
       "      <th>term_in_months</th>\n",
       "      <th>lender_count</th>\n",
       "      <th>male_female</th>\n",
       "      <th>repayment_interval</th>\n",
       "    </tr>\n",
       "  </thead>\n",
       "  <tbody>\n",
       "    <tr>\n",
       "      <th>0</th>\n",
       "      <td>653051</td>\n",
       "      <td>300</td>\n",
       "      <td>Fruits &amp; Vegetables</td>\n",
       "      <td>Food</td>\n",
       "      <td>Pakistan</td>\n",
       "      <td>Lahore</td>\n",
       "      <td>yes</td>\n",
       "      <td>0.548</td>\n",
       "      <td>247.0</td>\n",
       "      <td>2014-01-01 06:12:39+00:00</td>\n",
       "      <td>12</td>\n",
       "      <td>12</td>\n",
       "      <td>female</td>\n",
       "      <td>irregular</td>\n",
       "    </tr>\n",
       "    <tr>\n",
       "      <th>1</th>\n",
       "      <td>653053</td>\n",
       "      <td>575</td>\n",
       "      <td>Rickshaw</td>\n",
       "      <td>Transportation</td>\n",
       "      <td>Pakistan</td>\n",
       "      <td>Lahore</td>\n",
       "      <td>yes</td>\n",
       "      <td>0.548</td>\n",
       "      <td>247.0</td>\n",
       "      <td>2014-01-01 06:51:08+00:00</td>\n",
       "      <td>11</td>\n",
       "      <td>14</td>\n",
       "      <td>female</td>\n",
       "      <td>irregular</td>\n",
       "    </tr>\n",
       "    <tr>\n",
       "      <th>2</th>\n",
       "      <td>653068</td>\n",
       "      <td>150</td>\n",
       "      <td>Transportation</td>\n",
       "      <td>Transportation</td>\n",
       "      <td>India</td>\n",
       "      <td>Maynaguri</td>\n",
       "      <td>yes</td>\n",
       "      <td>0.615</td>\n",
       "      <td>334.0</td>\n",
       "      <td>2014-01-01 09:58:07+00:00</td>\n",
       "      <td>43</td>\n",
       "      <td>6</td>\n",
       "      <td>female</td>\n",
       "      <td>bullet</td>\n",
       "    </tr>\n",
       "    <tr>\n",
       "      <th>3</th>\n",
       "      <td>653063</td>\n",
       "      <td>200</td>\n",
       "      <td>Embroidery</td>\n",
       "      <td>Arts</td>\n",
       "      <td>Pakistan</td>\n",
       "      <td>Lahore</td>\n",
       "      <td>yes</td>\n",
       "      <td>0.548</td>\n",
       "      <td>247.0</td>\n",
       "      <td>2014-01-01 08:03:11+00:00</td>\n",
       "      <td>11</td>\n",
       "      <td>8</td>\n",
       "      <td>female</td>\n",
       "      <td>irregular</td>\n",
       "    </tr>\n",
       "    <tr>\n",
       "      <th>4</th>\n",
       "      <td>653084</td>\n",
       "      <td>400</td>\n",
       "      <td>Milk Sales</td>\n",
       "      <td>Food</td>\n",
       "      <td>Pakistan</td>\n",
       "      <td>Abdul Hakeem</td>\n",
       "      <td>yes</td>\n",
       "      <td>0.548</td>\n",
       "      <td>245.0</td>\n",
       "      <td>2014-01-01 11:53:19+00:00</td>\n",
       "      <td>14</td>\n",
       "      <td>16</td>\n",
       "      <td>female</td>\n",
       "      <td>monthly</td>\n",
       "    </tr>\n",
       "  </tbody>\n",
       "</table>\n",
       "</div>"
      ],
      "text/plain": [
       "       id  loan_amount             activity          sector   country  \\\n",
       "0  653051          300  Fruits & Vegetables            Food  Pakistan   \n",
       "1  653053          575             Rickshaw  Transportation  Pakistan   \n",
       "2  653068          150       Transportation  Transportation     India   \n",
       "3  653063          200           Embroidery            Arts  Pakistan   \n",
       "4  653084          400           Milk Sales            Food  Pakistan   \n",
       "\n",
       "         region Conflict_ACLED  HumDevInd  partner_id  \\\n",
       "0        Lahore            yes      0.548       247.0   \n",
       "1        Lahore            yes      0.548       247.0   \n",
       "2     Maynaguri            yes      0.615       334.0   \n",
       "3        Lahore            yes      0.548       247.0   \n",
       "4  Abdul Hakeem            yes      0.548       245.0   \n",
       "\n",
       "                 posted_time  term_in_months  lender_count male_female  \\\n",
       "0  2014-01-01 06:12:39+00:00              12            12      female   \n",
       "1  2014-01-01 06:51:08+00:00              11            14      female   \n",
       "2  2014-01-01 09:58:07+00:00              43             6      female   \n",
       "3  2014-01-01 08:03:11+00:00              11             8      female   \n",
       "4  2014-01-01 11:53:19+00:00              14            16      female   \n",
       "\n",
       "  repayment_interval  \n",
       "0          irregular  \n",
       "1          irregular  \n",
       "2             bullet  \n",
       "3          irregular  \n",
       "4            monthly  "
      ]
     },
     "execution_count": 2,
     "metadata": {},
     "output_type": "execute_result"
    }
   ],
   "source": [
    "# Let's take a look\n",
    "kiva.head()"
   ]
  },
  {
   "cell_type": "code",
   "execution_count": 3,
   "metadata": {},
   "outputs": [
    {
     "data": {
      "text/plain": [
       "<matplotlib.axes._subplots.AxesSubplot at 0x133a8b14b00>"
      ]
     },
     "execution_count": 3,
     "metadata": {},
     "output_type": "execute_result"
    },
    {
     "data": {
      "image/png": "[encoded data removed]",
      "text/plain": [
       "<matplotlib.figure.Figure at 0x1339b8231d0>"
      ]
     },
     "metadata": {},
     "output_type": "display_data"
    }
   ],
   "source": [
    "# Looking at the data distribution for loan amount - whew!  That's skewed!\n",
    "kiva.loan_amount.hist()"
   ]
  },
  {
   "cell_type": "code",
   "execution_count": 4,
   "metadata": {},
   "outputs": [
    {
     "data": {
      "text/plain": [
       "<matplotlib.axes._subplots.AxesSubplot at 0x1339f730860>"
      ]
     },
     "execution_count": 4,
     "metadata": {},
     "output_type": "execute_result"
    },
    {
     "data": {
      "image/png": "[encoded data removed]",
      "text/plain": [
       "<matplotlib.figure.Figure at 0x1339f74cac8>"
      ]
     },
     "metadata": {},
     "output_type": "display_data"
    }
   ],
   "source": [
    "#Looking to see if any particular range of loans appears normally distributed and limits the skew/presence of outliers\n",
    "kiva[kiva.loan_amount<15000].loan_amount.hist(bins=20)"
   ]
  },
  {
   "cell_type": "code",
   "execution_count": 5,
   "metadata": {},
   "outputs": [
    {
     "data": {
      "text/plain": [
       "<matplotlib.axes._subplots.AxesSubplot at 0x1339fa57978>"
      ]
     },
     "execution_count": 5,
     "metadata": {},
     "output_type": "execute_result"
    },
    {
     "data": {
      "image/png": "[encoded data removed]",
      "text/plain": [
       "<matplotlib.figure.Figure at 0x1339f769400>"
      ]
     },
     "metadata": {},
     "output_type": "display_data"
    }
   ],
   "source": [
    "#Still looking.....\n",
    "kiva[kiva.loan_amount<5000].loan_amount.hist(bins=40)"
   ]
  },
  {
   "cell_type": "code",
   "execution_count": 6,
   "metadata": {},
   "outputs": [
    {
     "data": {
      "text/plain": [
       "id                 0.002125\n",
       "loan_amount        9.795429\n",
       "HumDevInd         -0.244906\n",
       "partner_id         1.183399\n",
       "term_in_months     3.725604\n",
       "lender_count      13.801440\n",
       "dtype: float64"
      ]
     },
     "execution_count": 6,
     "metadata": {},
     "output_type": "execute_result"
    }
   ],
   "source": [
    "#Shows a signifciant skew of the loan amounts under $5,000; significant set of outliers above $1000-2000\n",
    "kiva.skew()"
   ]
  },
  {
   "cell_type": "code",
   "execution_count": 7,
   "metadata": {},
   "outputs": [
    {
     "data": {
      "text/plain": [
       "<matplotlib.axes._subplots.AxesSubplot at 0x1339fb6d198>"
      ]
     },
     "execution_count": 7,
     "metadata": {},
     "output_type": "execute_result"
    },
    {
     "data": {
      "image/png": "[encoded data removed]",
      "text/plain": [
       "<matplotlib.figure.Figure at 0x1339fb17f98>"
      ]
     },
     "metadata": {},
     "output_type": "display_data"
    }
   ],
   "source": [
    "#Look at loans under $1000 - woohoo!  Still slightly skewed, but it's more normally distributed\n",
    "kiva[kiva.loan_amount<1000].loan_amount.hist(bins=15)"
   ]
  },
  {
   "cell_type": "code",
   "execution_count": 117,
   "metadata": {},
   "outputs": [
    {
     "data": {
      "text/plain": [
       "0.7489738604450206"
      ]
     },
     "execution_count": 117,
     "metadata": {},
     "output_type": "execute_result"
    }
   ],
   "source": [
    "#~75% of kiva loans granted are under $1000\n",
    "under1000loan = (kiva[kiva.loan_amount<1000].loan_amount.count())/(kiva.loan_amount.count())\n",
    "under1000loan"
   ]
  },
  {
   "cell_type": "code",
   "execution_count": 83,
   "metadata": {},
   "outputs": [
    {
     "data": {
      "text/html": [
       "<div>\n",
       "<style scoped>\n",
       "    .dataframe tbody tr th:only-of-type {\n",
       "        vertical-align: middle;\n",
       "    }\n",
       "\n",
       "    .dataframe tbody tr th {\n",
       "        vertical-align: top;\n",
       "    }\n",
       "\n",
       "    .dataframe thead th {\n",
       "        text-align: right;\n",
       "    }\n",
       "</style>\n",
       "<table border=\"1\" class=\"dataframe\">\n",
       "  <thead>\n",
       "    <tr style=\"text-align: right;\">\n",
       "      <th></th>\n",
       "      <th>id</th>\n",
       "      <th>loan_amount</th>\n",
       "      <th>HumDevInd</th>\n",
       "      <th>partner_id</th>\n",
       "      <th>term_in_months</th>\n",
       "      <th>lender_count</th>\n",
       "    </tr>\n",
       "  </thead>\n",
       "  <tbody>\n",
       "    <tr>\n",
       "      <th>count</th>\n",
       "      <td>5.027150e+05</td>\n",
       "      <td>502715.000000</td>\n",
       "      <td>502715.000000</td>\n",
       "      <td>494147.000000</td>\n",
       "      <td>502715.000000</td>\n",
       "      <td>502715.000000</td>\n",
       "    </tr>\n",
       "    <tr>\n",
       "      <th>mean</th>\n",
       "      <td>9.995999e+05</td>\n",
       "      <td>409.534130</td>\n",
       "      <td>0.622240</td>\n",
       "      <td>182.770332</td>\n",
       "      <td>12.596785</td>\n",
       "      <td>11.682351</td>\n",
       "    </tr>\n",
       "    <tr>\n",
       "      <th>std</th>\n",
       "      <td>1.964782e+05</td>\n",
       "      <td>225.723122</td>\n",
       "      <td>0.082936</td>\n",
       "      <td>91.135305</td>\n",
       "      <td>6.923955</td>\n",
       "      <td>7.777809</td>\n",
       "    </tr>\n",
       "    <tr>\n",
       "      <th>min</th>\n",
       "      <td>6.530480e+05</td>\n",
       "      <td>25.000000</td>\n",
       "      <td>0.364000</td>\n",
       "      <td>9.000000</td>\n",
       "      <td>1.000000</td>\n",
       "      <td>0.000000</td>\n",
       "    </tr>\n",
       "    <tr>\n",
       "      <th>25%</th>\n",
       "      <td>8.302530e+05</td>\n",
       "      <td>225.000000</td>\n",
       "      <td>0.550000</td>\n",
       "      <td>136.000000</td>\n",
       "      <td>8.000000</td>\n",
       "      <td>6.000000</td>\n",
       "    </tr>\n",
       "    <tr>\n",
       "      <th>50%</th>\n",
       "      <td>1.001998e+06</td>\n",
       "      <td>350.000000</td>\n",
       "      <td>0.678000</td>\n",
       "      <td>145.000000</td>\n",
       "      <td>12.000000</td>\n",
       "      <td>10.000000</td>\n",
       "    </tr>\n",
       "    <tr>\n",
       "      <th>75%</th>\n",
       "      <td>1.170200e+06</td>\n",
       "      <td>550.000000</td>\n",
       "      <td>0.679000</td>\n",
       "      <td>204.000000</td>\n",
       "      <td>14.000000</td>\n",
       "      <td>16.000000</td>\n",
       "    </tr>\n",
       "    <tr>\n",
       "      <th>max</th>\n",
       "      <td>1.340339e+06</td>\n",
       "      <td>975.000000</td>\n",
       "      <td>0.918000</td>\n",
       "      <td>533.000000</td>\n",
       "      <td>122.000000</td>\n",
       "      <td>85.000000</td>\n",
       "    </tr>\n",
       "  </tbody>\n",
       "</table>\n",
       "</div>"
      ],
      "text/plain": [
       "                 id    loan_amount      HumDevInd     partner_id  \\\n",
       "count  5.027150e+05  502715.000000  502715.000000  494147.000000   \n",
       "mean   9.995999e+05     409.534130       0.622240     182.770332   \n",
       "std    1.964782e+05     225.723122       0.082936      91.135305   \n",
       "min    6.530480e+05      25.000000       0.364000       9.000000   \n",
       "25%    8.302530e+05     225.000000       0.550000     136.000000   \n",
       "50%    1.001998e+06     350.000000       0.678000     145.000000   \n",
       "75%    1.170200e+06     550.000000       0.679000     204.000000   \n",
       "max    1.340339e+06     975.000000       0.918000     533.000000   \n",
       "\n",
       "       term_in_months   lender_count  \n",
       "count   502715.000000  502715.000000  \n",
       "mean        12.596785      11.682351  \n",
       "std          6.923955       7.777809  \n",
       "min          1.000000       0.000000  \n",
       "25%          8.000000       6.000000  \n",
       "50%         12.000000      10.000000  \n",
       "75%         14.000000      16.000000  \n",
       "max        122.000000      85.000000  "
      ]
     },
     "execution_count": 83,
     "metadata": {},
     "output_type": "execute_result"
    }
   ],
   "source": [
    "#Restraining data set to loans under $1000; kiva is a platform for micro-loans; this model will work as a model for majority\n",
    "#of loans for lenders looking to give small amounts of money to support individuals in impoverished areas\n",
    "#There could potentially be external factors that change the nature of lending activity by lenders who loan more than $1000 or borrowers who are so successful that they get so many lenders and more money\n",
    "kiva_1000 = kiva[kiva.loan_amount < 1000]\n",
    "kiva_1000.describe()"
   ]
  },
  {
   "cell_type": "code",
   "execution_count": 9,
   "metadata": {},
   "outputs": [
    {
     "data": {
      "text/plain": [
       "id               -0.038332\n",
       "loan_amount       0.650801\n",
       "HumDevInd        -0.463174\n",
       "partner_id        1.238515\n",
       "term_in_months    3.707119\n",
       "lender_count      0.890477\n",
       "dtype: float64"
      ]
     },
     "execution_count": 9,
     "metadata": {},
     "output_type": "execute_result"
    }
   ],
   "source": [
    "#While the data is still moderately skewed right for loan amount, the skew is significantly reduced\n",
    "kiva_1000.skew()"
   ]
  },
  {
   "cell_type": "code",
   "execution_count": 10,
   "metadata": {},
   "outputs": [
    {
     "data": {
      "text/html": [
       "<div>\n",
       "<style scoped>\n",
       "    .dataframe tbody tr th:only-of-type {\n",
       "        vertical-align: middle;\n",
       "    }\n",
       "\n",
       "    .dataframe tbody tr th {\n",
       "        vertical-align: top;\n",
       "    }\n",
       "\n",
       "    .dataframe thead th {\n",
       "        text-align: right;\n",
       "    }\n",
       "</style>\n",
       "<table border=\"1\" class=\"dataframe\">\n",
       "  <thead>\n",
       "    <tr style=\"text-align: right;\">\n",
       "      <th></th>\n",
       "      <th>id</th>\n",
       "      <th>loan_amount</th>\n",
       "      <th>activity</th>\n",
       "      <th>sector</th>\n",
       "      <th>country</th>\n",
       "      <th>region</th>\n",
       "      <th>Conflict_ACLED</th>\n",
       "      <th>HumDevInd</th>\n",
       "      <th>partner_id</th>\n",
       "      <th>posted_time</th>\n",
       "      <th>term_in_months</th>\n",
       "      <th>lender_count</th>\n",
       "      <th>male_female</th>\n",
       "      <th>repayment_interval</th>\n",
       "    </tr>\n",
       "  </thead>\n",
       "  <tbody>\n",
       "    <tr>\n",
       "      <th>0</th>\n",
       "      <td>653051</td>\n",
       "      <td>300</td>\n",
       "      <td>Fruits &amp; Vegetables</td>\n",
       "      <td>Food</td>\n",
       "      <td>Pakistan</td>\n",
       "      <td>Lahore</td>\n",
       "      <td>yes</td>\n",
       "      <td>0.548</td>\n",
       "      <td>247.0</td>\n",
       "      <td>2014-01-01 06:12:39+00:00</td>\n",
       "      <td>12</td>\n",
       "      <td>12</td>\n",
       "      <td>female</td>\n",
       "      <td>irregular</td>\n",
       "    </tr>\n",
       "    <tr>\n",
       "      <th>1</th>\n",
       "      <td>653053</td>\n",
       "      <td>575</td>\n",
       "      <td>Rickshaw</td>\n",
       "      <td>Transportation</td>\n",
       "      <td>Pakistan</td>\n",
       "      <td>Lahore</td>\n",
       "      <td>yes</td>\n",
       "      <td>0.548</td>\n",
       "      <td>247.0</td>\n",
       "      <td>2014-01-01 06:51:08+00:00</td>\n",
       "      <td>11</td>\n",
       "      <td>14</td>\n",
       "      <td>female</td>\n",
       "      <td>irregular</td>\n",
       "    </tr>\n",
       "    <tr>\n",
       "      <th>2</th>\n",
       "      <td>653068</td>\n",
       "      <td>150</td>\n",
       "      <td>Transportation</td>\n",
       "      <td>Transportation</td>\n",
       "      <td>India</td>\n",
       "      <td>Maynaguri</td>\n",
       "      <td>yes</td>\n",
       "      <td>0.615</td>\n",
       "      <td>334.0</td>\n",
       "      <td>2014-01-01 09:58:07+00:00</td>\n",
       "      <td>43</td>\n",
       "      <td>6</td>\n",
       "      <td>female</td>\n",
       "      <td>bullet</td>\n",
       "    </tr>\n",
       "    <tr>\n",
       "      <th>3</th>\n",
       "      <td>653063</td>\n",
       "      <td>200</td>\n",
       "      <td>Embroidery</td>\n",
       "      <td>Arts</td>\n",
       "      <td>Pakistan</td>\n",
       "      <td>Lahore</td>\n",
       "      <td>yes</td>\n",
       "      <td>0.548</td>\n",
       "      <td>247.0</td>\n",
       "      <td>2014-01-01 08:03:11+00:00</td>\n",
       "      <td>11</td>\n",
       "      <td>8</td>\n",
       "      <td>female</td>\n",
       "      <td>irregular</td>\n",
       "    </tr>\n",
       "    <tr>\n",
       "      <th>4</th>\n",
       "      <td>653084</td>\n",
       "      <td>400</td>\n",
       "      <td>Milk Sales</td>\n",
       "      <td>Food</td>\n",
       "      <td>Pakistan</td>\n",
       "      <td>Abdul Hakeem</td>\n",
       "      <td>yes</td>\n",
       "      <td>0.548</td>\n",
       "      <td>245.0</td>\n",
       "      <td>2014-01-01 11:53:19+00:00</td>\n",
       "      <td>14</td>\n",
       "      <td>16</td>\n",
       "      <td>female</td>\n",
       "      <td>monthly</td>\n",
       "    </tr>\n",
       "  </tbody>\n",
       "</table>\n",
       "</div>"
      ],
      "text/plain": [
       "       id  loan_amount             activity          sector   country  \\\n",
       "0  653051          300  Fruits & Vegetables            Food  Pakistan   \n",
       "1  653053          575             Rickshaw  Transportation  Pakistan   \n",
       "2  653068          150       Transportation  Transportation     India   \n",
       "3  653063          200           Embroidery            Arts  Pakistan   \n",
       "4  653084          400           Milk Sales            Food  Pakistan   \n",
       "\n",
       "         region Conflict_ACLED  HumDevInd  partner_id  \\\n",
       "0        Lahore            yes      0.548       247.0   \n",
       "1        Lahore            yes      0.548       247.0   \n",
       "2     Maynaguri            yes      0.615       334.0   \n",
       "3        Lahore            yes      0.548       247.0   \n",
       "4  Abdul Hakeem            yes      0.548       245.0   \n",
       "\n",
       "                 posted_time  term_in_months  lender_count male_female  \\\n",
       "0  2014-01-01 06:12:39+00:00              12            12      female   \n",
       "1  2014-01-01 06:51:08+00:00              11            14      female   \n",
       "2  2014-01-01 09:58:07+00:00              43             6      female   \n",
       "3  2014-01-01 08:03:11+00:00              11             8      female   \n",
       "4  2014-01-01 11:53:19+00:00              14            16      female   \n",
       "\n",
       "  repayment_interval  \n",
       "0          irregular  \n",
       "1          irregular  \n",
       "2             bullet  \n",
       "3          irregular  \n",
       "4            monthly  "
      ]
     },
     "execution_count": 10,
     "metadata": {},
     "output_type": "execute_result"
    }
   ],
   "source": [
    "kiva_1000.head()"
   ]
  },
  {
   "cell_type": "code",
   "execution_count": 11,
   "metadata": {},
   "outputs": [
    {
     "data": {
      "text/plain": [
       "id                    502715\n",
       "loan_amount               39\n",
       "activity                 162\n",
       "sector                    15\n",
       "country                   76\n",
       "region                  9616\n",
       "Conflict_ACLED             2\n",
       "HumDevInd                 70\n",
       "partner_id               264\n",
       "posted_time           500853\n",
       "term_in_months            84\n",
       "lender_count              73\n",
       "male_female                4\n",
       "repayment_interval         4\n",
       "dtype: int64"
      ]
     },
     "execution_count": 11,
     "metadata": {},
     "output_type": "execute_result"
    }
   ],
   "source": [
    "#Look at number of unique values per column\n",
    "kiva_1000.nunique()"
   ]
  },
  {
   "cell_type": "code",
   "execution_count": 84,
   "metadata": {},
   "outputs": [
    {
     "name": "stderr",
     "output_type": "stream",
     "text": [
      "C:\\Users\\carol\\AppData\\Local\\Continuum\\anaconda3\\lib\\site-packages\\ipykernel_launcher.py:3: SettingWithCopyWarning: \n",
      "A value is trying to be set on a copy of a slice from a DataFrame\n",
      "\n",
      "See the caveats in the documentation: http://pandas.pydata.org/pandas-docs/stable/indexing.html#indexing-view-versus-copy\n",
      "  This is separate from the ipykernel package so we can avoid doing imports until\n"
     ]
    }
   ],
   "source": [
    "#drop unnecessary columns; lender_count would be interesting but is similar to loan_amount, and loan_amount is what a borrower cares about\n",
    "#dropped name of country because country and HDI have dependencies between each other; it isn't inherently the name of the country that is of interest but elements like HDI and ACLED that would impact desire for lenders to give funds\n",
    "kiva_1000.drop(['id', 'activity', 'region', 'partner_id', 'posted_time', 'lender_count', 'country'], axis=1, inplace=True)"
   ]
  },
  {
   "cell_type": "code",
   "execution_count": 13,
   "metadata": {},
   "outputs": [
    {
     "data": {
      "text/html": [
       "<div>\n",
       "<style scoped>\n",
       "    .dataframe tbody tr th:only-of-type {\n",
       "        vertical-align: middle;\n",
       "    }\n",
       "\n",
       "    .dataframe tbody tr th {\n",
       "        vertical-align: top;\n",
       "    }\n",
       "\n",
       "    .dataframe thead th {\n",
       "        text-align: right;\n",
       "    }\n",
       "</style>\n",
       "<table border=\"1\" class=\"dataframe\">\n",
       "  <thead>\n",
       "    <tr style=\"text-align: right;\">\n",
       "      <th></th>\n",
       "      <th>loan_amount</th>\n",
       "      <th>sector</th>\n",
       "      <th>Conflict_ACLED</th>\n",
       "      <th>HumDevInd</th>\n",
       "      <th>term_in_months</th>\n",
       "      <th>male_female</th>\n",
       "      <th>repayment_interval</th>\n",
       "    </tr>\n",
       "  </thead>\n",
       "  <tbody>\n",
       "    <tr>\n",
       "      <th>0</th>\n",
       "      <td>300</td>\n",
       "      <td>Food</td>\n",
       "      <td>yes</td>\n",
       "      <td>0.548</td>\n",
       "      <td>12</td>\n",
       "      <td>female</td>\n",
       "      <td>irregular</td>\n",
       "    </tr>\n",
       "    <tr>\n",
       "      <th>1</th>\n",
       "      <td>575</td>\n",
       "      <td>Transportation</td>\n",
       "      <td>yes</td>\n",
       "      <td>0.548</td>\n",
       "      <td>11</td>\n",
       "      <td>female</td>\n",
       "      <td>irregular</td>\n",
       "    </tr>\n",
       "    <tr>\n",
       "      <th>2</th>\n",
       "      <td>150</td>\n",
       "      <td>Transportation</td>\n",
       "      <td>yes</td>\n",
       "      <td>0.615</td>\n",
       "      <td>43</td>\n",
       "      <td>female</td>\n",
       "      <td>bullet</td>\n",
       "    </tr>\n",
       "    <tr>\n",
       "      <th>3</th>\n",
       "      <td>200</td>\n",
       "      <td>Arts</td>\n",
       "      <td>yes</td>\n",
       "      <td>0.548</td>\n",
       "      <td>11</td>\n",
       "      <td>female</td>\n",
       "      <td>irregular</td>\n",
       "    </tr>\n",
       "    <tr>\n",
       "      <th>4</th>\n",
       "      <td>400</td>\n",
       "      <td>Food</td>\n",
       "      <td>yes</td>\n",
       "      <td>0.548</td>\n",
       "      <td>14</td>\n",
       "      <td>female</td>\n",
       "      <td>monthly</td>\n",
       "    </tr>\n",
       "  </tbody>\n",
       "</table>\n",
       "</div>"
      ],
      "text/plain": [
       "   loan_amount          sector Conflict_ACLED  HumDevInd  term_in_months  \\\n",
       "0          300            Food            yes      0.548              12   \n",
       "1          575  Transportation            yes      0.548              11   \n",
       "2          150  Transportation            yes      0.615              43   \n",
       "3          200            Arts            yes      0.548              11   \n",
       "4          400            Food            yes      0.548              14   \n",
       "\n",
       "  male_female repayment_interval  \n",
       "0      female          irregular  \n",
       "1      female          irregular  \n",
       "2      female             bullet  \n",
       "3      female          irregular  \n",
       "4      female            monthly  "
      ]
     },
     "execution_count": 13,
     "metadata": {},
     "output_type": "execute_result"
    }
   ],
   "source": [
    "kiva_1000.head()"
   ]
  },
  {
   "cell_type": "markdown",
   "metadata": {},
   "source": [
    "### Data Dictionary\n",
    "- most column metadata taken from the kaggle data, additional data for the ACLED Conflict Data and Human Development Index\n",
    "\n",
    "- loan_amount: The amount disbursed by the field agent to the borrower(USD)\n",
    "- sector: High level category of type of activity the funding supported\n",
    "- country: Full country name of country in which loan was disbursed\n",
    "- Conflict_ACLED: Indicates where the country location of the loan borrower was in the ACLED database as being the location of an armed conflict since 2014\n",
    "- HumDevInd: Indicates the UN Human Development Index, which integrates multiple factors (surround length and health of life, knowledge, and standard of living) to identify the overall development of a composite score for national development\n",
    "- term_in_months: The duration for which the loan was disbursed in months\n",
    "- lender_count: The total number of lenders that contributed to this loan\n",
    "- male_female: Indicates genders of the borrowers; borrowers are categorized as all either male, female, or a mix of both genders (based on this binary categorization)\n",
    "- repayment_interval: Indicates the type of interval over which the loan was paid back by the borrower"
   ]
  },
  {
   "cell_type": "code",
   "execution_count": 14,
   "metadata": {},
   "outputs": [
    {
     "data": {
      "text/plain": [
       "loan_amount           39\n",
       "sector                15\n",
       "Conflict_ACLED         2\n",
       "HumDevInd             70\n",
       "term_in_months        84\n",
       "male_female            4\n",
       "repayment_interval     4\n",
       "dtype: int64"
      ]
     },
     "execution_count": 14,
     "metadata": {},
     "output_type": "execute_result"
    }
   ],
   "source": [
    "#This reflects the number of unique values per column.  Highlights that I can see what the unique sectors are, the 76 countries with recipients of loans, the different types of repayment intervals, and the different values for gender\n",
    "kiva_1000.nunique()"
   ]
  },
  {
   "cell_type": "code",
   "execution_count": 15,
   "metadata": {},
   "outputs": [
    {
     "data": {
      "text/plain": [
       "loan_amount             int64\n",
       "sector                 object\n",
       "Conflict_ACLED         object\n",
       "HumDevInd             float64\n",
       "term_in_months          int64\n",
       "male_female            object\n",
       "repayment_interval     object\n",
       "dtype: object"
      ]
     },
     "execution_count": 15,
     "metadata": {},
     "output_type": "execute_result"
    }
   ],
   "source": [
    "#check the data types of the feature columns - we can see integer and float types as numerical variables, object as categorical variables\n",
    "kiva_1000.dtypes"
   ]
  },
  {
   "cell_type": "code",
   "execution_count": 16,
   "metadata": {},
   "outputs": [
    {
     "data": {
      "text/plain": [
       "Agriculture       0.265705\n",
       "Food              0.206216\n",
       "Retail            0.195522\n",
       "Personal Use      0.064120\n",
       "Services          0.061393\n",
       "Housing           0.052638\n",
       "Clothing          0.042648\n",
       "Education         0.039651\n",
       "Transportation    0.024579\n",
       "Arts              0.017662\n",
       "Health            0.011506\n",
       "Manufacturing     0.008904\n",
       "Construction      0.007925\n",
       "Entertainment     0.000877\n",
       "Wholesale         0.000654\n",
       "Name: sector, dtype: float64"
      ]
     },
     "execution_count": 16,
     "metadata": {},
     "output_type": "execute_result"
    }
   ],
   "source": [
    "#Check the nature of the values for each column\n",
    "\n",
    "#These are the percentages of different sectors of loan activities for which kiva loans under $1,000 have been granted\n",
    "kiva_1000.sector.value_counts(normalize=True)"
   ]
  },
  {
   "cell_type": "code",
   "execution_count": 17,
   "metadata": {},
   "outputs": [
    {
     "data": {
      "text/plain": [
       "Philippines    0.309493\n",
       "Kenya          0.139900\n",
       "El Salvador    0.059131\n",
       "Cambodia       0.053307\n",
       "Pakistan       0.050782\n",
       "Name: country, dtype: float64"
      ]
     },
     "execution_count": 17,
     "metadata": {},
     "output_type": "execute_result"
    }
   ],
   "source": [
    "#These are the top 5 countries home to recipients of kiva loans under $1000, in rank order of the number of loans received\n",
    "kiva[kiva.loan_amount <1000].country.value_counts(normalize=True).head()"
   ]
  },
  {
   "cell_type": "code",
   "execution_count": 18,
   "metadata": {},
   "outputs": [
    {
     "data": {
      "text/plain": [
       "no     0.563856\n",
       "yes    0.436144\n",
       "Name: Conflict_ACLED, dtype: float64"
      ]
     },
     "execution_count": 18,
     "metadata": {},
     "output_type": "execute_result"
    }
   ],
   "source": [
    "#These are the number of kiva loans under $1000 that went to a loan recipient in a country that was home to an armed conflict since 2014\n",
    "kiva_1000.Conflict_ACLED.value_counts(normalize=True)"
   ]
  },
  {
   "cell_type": "code",
   "execution_count": 19,
   "metadata": {},
   "outputs": [
    {
     "data": {
      "text/plain": [
       "<matplotlib.axes._subplots.AxesSubplot at 0x133ac6be208>"
      ]
     },
     "execution_count": 19,
     "metadata": {},
     "output_type": "execute_result"
    },
    {
     "data": {
      "image/png": "[encoded data removed]",
      "text/plain": [
       "<matplotlib.figure.Figure at 0x133b5811438>"
      ]
     },
     "metadata": {},
     "output_type": "display_data"
    }
   ],
   "source": [
    "#This reflects that most kiva loans under $1000 are short-erm or under 20 months\n",
    "kiva_1000.term_in_months.hist(bins=40)"
   ]
  },
  {
   "cell_type": "code",
   "execution_count": 20,
   "metadata": {},
   "outputs": [
    {
     "data": {
      "text/plain": [
       "female          0.770055\n",
       "male            0.187758\n",
       "both            0.036675\n",
       "not provided    0.005512\n",
       "Name: male_female, dtype: float64"
      ]
     },
     "execution_count": 20,
     "metadata": {},
     "output_type": "execute_result"
    }
   ],
   "source": [
    "#The majority of kiva loans under $1000 are granted to female borrowers\n",
    "kiva_1000.male_female.value_counts(normalize=True)"
   ]
  },
  {
   "cell_type": "code",
   "execution_count": 21,
   "metadata": {},
   "outputs": [
    {
     "data": {
      "text/plain": [
       "<matplotlib.axes._subplots.AxesSubplot at 0x133b2356160>"
      ]
     },
     "execution_count": 21,
     "metadata": {},
     "output_type": "execute_result"
    },
    {
     "data": {
      "image/png": "[encoded data removed]",
      "text/plain": [
       "<matplotlib.figure.Figure at 0x1339fa81cc0>"
      ]
     },
     "metadata": {},
     "output_type": "display_data"
    }
   ],
   "source": [
    "# Ladies dominate as kiva loan recipients\n",
    "kiva_1000.male_female.hist()"
   ]
  },
  {
   "cell_type": "code",
   "execution_count": 22,
   "metadata": {},
   "outputs": [
    {
     "data": {
      "text/plain": [
       "monthly      0.459945\n",
       "irregular    0.435163\n",
       "bullet       0.103695\n",
       "weekly       0.001197\n",
       "Name: repayment_interval, dtype: float64"
      ]
     },
     "execution_count": 22,
     "metadata": {},
     "output_type": "execute_result"
    }
   ],
   "source": [
    "#The majority of kiva loans under $1000 are almost evently split between monthly repayment plans and irregular repayment\n",
    "kiva_1000.repayment_interval.value_counts(normalize=True)"
   ]
  },
  {
   "cell_type": "code",
   "execution_count": 23,
   "metadata": {},
   "outputs": [
    {
     "data": {
      "text/plain": [
       "loan_amount           0\n",
       "sector                0\n",
       "Conflict_ACLED        0\n",
       "HumDevInd             0\n",
       "term_in_months        0\n",
       "male_female           0\n",
       "repayment_interval    0\n",
       "dtype: int64"
      ]
     },
     "execution_count": 23,
     "metadata": {},
     "output_type": "execute_result"
    }
   ],
   "source": [
    "#Clean data, no null values, no need to drop any rows here\n",
    "kiva_1000.isnull().sum()"
   ]
  },
  {
   "cell_type": "code",
   "execution_count": 25,
   "metadata": {},
   "outputs": [
    {
     "data": {
      "text/plain": [
       "<seaborn.axisgrid.PairGrid at 0x1339fbd9dd8>"
      ]
     },
     "execution_count": 25,
     "metadata": {},
     "output_type": "execute_result"
    },
    {
     "data": {
      "image/png": "[encoded data removed]",
      "text/plain": [
       "<matplotlib.figure.Figure at 0x1339fbd96d8>"
      ]
     },
     "metadata": {},
     "output_type": "display_data"
    }
   ],
   "source": [
    "# plotting relationships between the different numerical variables.  Not a lot of obvious relationships that look easy to model.\n",
    "sns.pairplot(kiva_1000)"
   ]
  },
  {
   "cell_type": "markdown",
   "metadata": {},
   "source": [
    "# Prepare Data for Modeling"
   ]
  },
  {
   "cell_type": "markdown",
   "metadata": {},
   "source": [
    "### Above, we had identified the following features as categorical variables:\n",
    "- sector\n",
    "- Conflict_ACLED\n",
    "- male_female\n",
    "- repayment_interval\n",
    "\n",
    "I will factorize the unique values into numbers for use in regression modeling."
   ]
  },
  {
   "cell_type": "markdown",
   "metadata": {},
   "source": [
    "#### First, I must understand the different unique values for each categorical feature in order of their appearance\n",
    "#### The values will be factorized in order of each unique values appearance"
   ]
  },
  {
   "cell_type": "code",
   "execution_count": 89,
   "metadata": {},
   "outputs": [
    {
     "data": {
      "text/plain": [
       "sector\n",
       "Food              103668\n",
       "Transportation     12356\n",
       "Arts                8879\n",
       "Services           30863\n",
       "Agriculture       133574\n",
       "Manufacturing       4476\n",
       "Wholesale            329\n",
       "Retail             98292\n",
       "Clothing           21440\n",
       "Construction        3984\n",
       "Health              5784\n",
       "Education          19933\n",
       "Personal Use       32234\n",
       "Housing            26462\n",
       "Entertainment        441\n",
       "Name: sector, dtype: int64"
      ]
     },
     "execution_count": 89,
     "metadata": {},
     "output_type": "execute_result"
    }
   ],
   "source": [
    "# Unique values as they appear in the sector feature\n",
    "kiva_1000['sector'].groupby(kiva_1000['sector'], sort=False).count()"
   ]
  },
  {
   "cell_type": "code",
   "execution_count": 90,
   "metadata": {},
   "outputs": [
    {
     "data": {
      "text/plain": [
       "Conflict_ACLED\n",
       "yes    219256\n",
       "no     283459\n",
       "Name: Conflict_ACLED, dtype: int64"
      ]
     },
     "execution_count": 90,
     "metadata": {},
     "output_type": "execute_result"
    }
   ],
   "source": [
    "# Unique values as they appear in the Conflict_ACLED feature\n",
    "kiva_1000['Conflict_ACLED'].groupby(kiva_1000['Conflict_ACLED'], sort=False).count()"
   ]
  },
  {
   "cell_type": "code",
   "execution_count": 91,
   "metadata": {},
   "outputs": [
    {
     "data": {
      "text/plain": [
       "male_female\n",
       "female          387118\n",
       "male             94389\n",
       "both             18437\n",
       "not provided      2771\n",
       "Name: male_female, dtype: int64"
      ]
     },
     "execution_count": 91,
     "metadata": {},
     "output_type": "execute_result"
    }
   ],
   "source": [
    "# Unique values as they appear in the male_female feature\n",
    "kiva_1000['male_female'].groupby(kiva_1000['male_female'], sort=False).count()"
   ]
  },
  {
   "cell_type": "code",
   "execution_count": 92,
   "metadata": {},
   "outputs": [
    {
     "data": {
      "text/plain": [
       "repayment_interval\n",
       "irregular    218763\n",
       "bullet        52129\n",
       "monthly      231221\n",
       "weekly          602\n",
       "Name: repayment_interval, dtype: int64"
      ]
     },
     "execution_count": 92,
     "metadata": {},
     "output_type": "execute_result"
    }
   ],
   "source": [
    "# Unique values as they appear in the repayment_interval feature\n",
    "kiva_1000['repayment_interval'].groupby(kiva_1000['repayment_interval'], sort=False).count()"
   ]
  },
  {
   "cell_type": "code",
   "execution_count": 93,
   "metadata": {
    "scrolled": false
   },
   "outputs": [
    {
     "name": "stderr",
     "output_type": "stream",
     "text": [
      "C:\\Users\\carol\\AppData\\Local\\Continuum\\anaconda3\\lib\\site-packages\\ipykernel_launcher.py:2: SettingWithCopyWarning: \n",
      "A value is trying to be set on a copy of a slice from a DataFrame.\n",
      "Try using .loc[row_indexer,col_indexer] = value instead\n",
      "\n",
      "See the caveats in the documentation: http://pandas.pydata.org/pandas-docs/stable/indexing.html#indexing-view-versus-copy\n",
      "  \n",
      "C:\\Users\\carol\\AppData\\Local\\Continuum\\anaconda3\\lib\\site-packages\\ipykernel_launcher.py:3: SettingWithCopyWarning: \n",
      "A value is trying to be set on a copy of a slice from a DataFrame.\n",
      "Try using .loc[row_indexer,col_indexer] = value instead\n",
      "\n",
      "See the caveats in the documentation: http://pandas.pydata.org/pandas-docs/stable/indexing.html#indexing-view-versus-copy\n",
      "  This is separate from the ipykernel package so we can avoid doing imports until\n",
      "C:\\Users\\carol\\AppData\\Local\\Continuum\\anaconda3\\lib\\site-packages\\ipykernel_launcher.py:4: SettingWithCopyWarning: \n",
      "A value is trying to be set on a copy of a slice from a DataFrame.\n",
      "Try using .loc[row_indexer,col_indexer] = value instead\n",
      "\n",
      "See the caveats in the documentation: http://pandas.pydata.org/pandas-docs/stable/indexing.html#indexing-view-versus-copy\n",
      "  after removing the cwd from sys.path.\n",
      "C:\\Users\\carol\\AppData\\Local\\Continuum\\anaconda3\\lib\\site-packages\\ipykernel_launcher.py:5: SettingWithCopyWarning: \n",
      "A value is trying to be set on a copy of a slice from a DataFrame.\n",
      "Try using .loc[row_indexer,col_indexer] = value instead\n",
      "\n",
      "See the caveats in the documentation: http://pandas.pydata.org/pandas-docs/stable/indexing.html#indexing-view-versus-copy\n",
      "  \"\"\"\n"
     ]
    },
    {
     "data": {
      "text/html": [
       "<div>\n",
       "<style scoped>\n",
       "    .dataframe tbody tr th:only-of-type {\n",
       "        vertical-align: middle;\n",
       "    }\n",
       "\n",
       "    .dataframe tbody tr th {\n",
       "        vertical-align: top;\n",
       "    }\n",
       "\n",
       "    .dataframe thead th {\n",
       "        text-align: right;\n",
       "    }\n",
       "</style>\n",
       "<table border=\"1\" class=\"dataframe\">\n",
       "  <thead>\n",
       "    <tr style=\"text-align: right;\">\n",
       "      <th></th>\n",
       "      <th>loan_amount</th>\n",
       "      <th>sector</th>\n",
       "      <th>Conflict_ACLED</th>\n",
       "      <th>HumDevInd</th>\n",
       "      <th>term_in_months</th>\n",
       "      <th>male_female</th>\n",
       "      <th>repayment_interval</th>\n",
       "    </tr>\n",
       "  </thead>\n",
       "  <tbody>\n",
       "    <tr>\n",
       "      <th>0</th>\n",
       "      <td>300</td>\n",
       "      <td>0</td>\n",
       "      <td>0</td>\n",
       "      <td>0.548</td>\n",
       "      <td>12</td>\n",
       "      <td>0</td>\n",
       "      <td>0</td>\n",
       "    </tr>\n",
       "    <tr>\n",
       "      <th>1</th>\n",
       "      <td>575</td>\n",
       "      <td>1</td>\n",
       "      <td>0</td>\n",
       "      <td>0.548</td>\n",
       "      <td>11</td>\n",
       "      <td>0</td>\n",
       "      <td>0</td>\n",
       "    </tr>\n",
       "    <tr>\n",
       "      <th>2</th>\n",
       "      <td>150</td>\n",
       "      <td>1</td>\n",
       "      <td>0</td>\n",
       "      <td>0.615</td>\n",
       "      <td>43</td>\n",
       "      <td>0</td>\n",
       "      <td>1</td>\n",
       "    </tr>\n",
       "    <tr>\n",
       "      <th>3</th>\n",
       "      <td>200</td>\n",
       "      <td>2</td>\n",
       "      <td>0</td>\n",
       "      <td>0.548</td>\n",
       "      <td>11</td>\n",
       "      <td>0</td>\n",
       "      <td>0</td>\n",
       "    </tr>\n",
       "    <tr>\n",
       "      <th>4</th>\n",
       "      <td>400</td>\n",
       "      <td>0</td>\n",
       "      <td>0</td>\n",
       "      <td>0.548</td>\n",
       "      <td>14</td>\n",
       "      <td>0</td>\n",
       "      <td>2</td>\n",
       "    </tr>\n",
       "  </tbody>\n",
       "</table>\n",
       "</div>"
      ],
      "text/plain": [
       "   loan_amount  sector  Conflict_ACLED  HumDevInd  term_in_months  \\\n",
       "0          300       0               0      0.548              12   \n",
       "1          575       1               0      0.548              11   \n",
       "2          150       1               0      0.615              43   \n",
       "3          200       2               0      0.548              11   \n",
       "4          400       0               0      0.548              14   \n",
       "\n",
       "   male_female  repayment_interval  \n",
       "0            0                   0  \n",
       "1            0                   0  \n",
       "2            0                   1  \n",
       "3            0                   0  \n",
       "4            0                   2  "
      ]
     },
     "execution_count": 93,
     "metadata": {},
     "output_type": "execute_result"
    }
   ],
   "source": [
    "# Encode categorical variables as integers.\n",
    "kiva_1000['sector'] = pd.factorize(kiva_1000.sector)[0]\n",
    "kiva_1000['Conflict_ACLED'] = pd.factorize(kiva_1000.Conflict_ACLED)[0]\n",
    "kiva_1000['male_female'] = pd.factorize(kiva_1000.male_female)[0]\n",
    "kiva_1000['repayment_interval'] = pd.factorize(kiva_1000.repayment_interval)[0]\n",
    "kiva_1000.head()"
   ]
  },
  {
   "cell_type": "markdown",
   "metadata": {},
   "source": [
    "# MODELS (DECISION TREE, RANDOM FOREST, LINEAR REGRESSION)"
   ]
  },
  {
   "cell_type": "markdown",
   "metadata": {},
   "source": [
    "# Decision Tree"
   ]
  },
  {
   "cell_type": "code",
   "execution_count": 75,
   "metadata": {},
   "outputs": [
    {
     "data": {
      "text/plain": [
       "Index(['sector', 'Conflict_ACLED', 'HumDevInd', 'term_in_months',\n",
       "       'male_female', 'repayment_interval'],\n",
       "      dtype='object')"
      ]
     },
     "execution_count": 75,
     "metadata": {},
     "output_type": "execute_result"
    }
   ],
   "source": [
    "#Define my features\n",
    "feature_cols = kiva_1000.columns.drop('loan_amount')\n",
    "feature_cols"
   ]
  },
  {
   "cell_type": "code",
   "execution_count": 76,
   "metadata": {},
   "outputs": [],
   "source": [
    "# Define X and y.\n",
    "X = kiva_1000[feature_cols]\n",
    "y = kiva_1000.loan_amount"
   ]
  },
  {
   "cell_type": "code",
   "execution_count": 77,
   "metadata": {},
   "outputs": [],
   "source": [
    "#Make my Decision Tree\n",
    "\n",
    "from sklearn.tree import DecisionTreeRegressor\n",
    "\n",
    "# Grow each tree deep.\n",
    "treereg = DecisionTreeRegressor(max_depth=None, random_state=124)\n",
    "\n",
    "#use cross-validation to find optimal depth of a decision tree\n",
    "# List of values to try for max_depth:\n",
    "max_depth_range = list(range(1, 21))\n",
    "\n",
    "# List to store the average RMSE for each value of max_depth:\n",
    "RMSE_scores = []\n",
    "\n",
    "# Use 10-fold cross-validation with each value of max_depth.\n",
    "from sklearn.model_selection import cross_val_score\n",
    "for depth in max_depth_range:\n",
    "    treereg = DecisionTreeRegressor(max_depth=depth, random_state=1)\n",
    "    MSE_scores = cross_val_score(treereg, X, y, cv=10, scoring='neg_mean_squared_error')\n",
    "    RMSE_scores.append(np.mean(np.sqrt(-MSE_scores)))"
   ]
  },
  {
   "cell_type": "code",
   "execution_count": 78,
   "metadata": {},
   "outputs": [
    {
     "data": {
      "image/png": "[encoded data removed]",
      "text/plain": [
       "<matplotlib.figure.Figure at 0x1338015a940>"
      ]
     },
     "metadata": {},
     "output_type": "display_data"
    }
   ],
   "source": [
    "# Looking for optimum max depth of the tree - wow, 16 steps is deep!\n",
    "# Plot max_depth (x-axis) versus RMSE (y-axis).\n",
    "plt.plot(max_depth_range, RMSE_scores);\n",
    "plt.xlabel('max_depth');\n",
    "plt.ylabel('RMSE (lower is better)');"
   ]
  },
  {
   "cell_type": "code",
   "execution_count": 79,
   "metadata": {},
   "outputs": [
    {
     "data": {
      "text/plain": [
       "(167.55196996615499, 16)"
      ]
     },
     "execution_count": 79,
     "metadata": {},
     "output_type": "execute_result"
    }
   ],
   "source": [
    "sorted(zip(RMSE_scores, max_depth_range))[0]"
   ]
  },
  {
   "cell_type": "code",
   "execution_count": 80,
   "metadata": {},
   "outputs": [
    {
     "data": {
      "text/plain": [
       "DecisionTreeRegressor(criterion='mse', max_depth=3, max_features=None,\n",
       "           max_leaf_nodes=None, min_impurity_decrease=0.0,\n",
       "           min_impurity_split=None, min_samples_leaf=1,\n",
       "           min_samples_split=2, min_weight_fraction_leaf=0.0,\n",
       "           presort=False, random_state=42, splitter='best')"
      ]
     },
     "execution_count": 80,
     "metadata": {},
     "output_type": "execute_result"
    }
   ],
   "source": [
    "# max_depth=16 was best to minimize RMSE, however, that will limit interpretability and manageability for users of the model\n",
    "# Reduced the max_depth parameter to 3; Next steps could continue to optimize to reduce error\n",
    "treereg = DecisionTreeRegressor(max_depth=3, random_state=42)\n",
    "treereg.fit(X, y)"
   ]
  },
  {
   "cell_type": "code",
   "execution_count": 35,
   "metadata": {},
   "outputs": [],
   "source": [
    "# Create a Graphviz file and generate an image of the decision tree\n",
    "from sklearn.tree import export_graphviz\n",
    "export_graphviz(treereg, out_file='tree_kiva.dot', feature_names=feature_cols)"
   ]
  },
  {
   "attachments": {
    "image.png": {
     "image/png": "[encoded data removed]"
    }
   },
   "cell_type": "markdown",
   "metadata": {},
   "source": [
    "![image.png](attachment:image.png)"
   ]
  },
  {
   "attachments": {
    "tree_kiva_interpreted.PNG": {
     "image/png": "[encoded data removed]"
    }
   },
   "cell_type": "markdown",
   "metadata": {},
   "source": [
    "![tree_kiva_interpreted.PNG](attachment:tree_kiva_interpreted.PNG)"
   ]
  },
  {
   "cell_type": "code",
   "execution_count": 81,
   "metadata": {},
   "outputs": [
    {
     "data": {
      "text/html": [
       "<div>\n",
       "<style scoped>\n",
       "    .dataframe tbody tr th:only-of-type {\n",
       "        vertical-align: middle;\n",
       "    }\n",
       "\n",
       "    .dataframe tbody tr th {\n",
       "        vertical-align: top;\n",
       "    }\n",
       "\n",
       "    .dataframe thead th {\n",
       "        text-align: right;\n",
       "    }\n",
       "</style>\n",
       "<table border=\"1\" class=\"dataframe\">\n",
       "  <thead>\n",
       "    <tr style=\"text-align: right;\">\n",
       "      <th></th>\n",
       "      <th>feature</th>\n",
       "      <th>importance</th>\n",
       "    </tr>\n",
       "  </thead>\n",
       "  <tbody>\n",
       "    <tr>\n",
       "      <th>1</th>\n",
       "      <td>Conflict_ACLED</td>\n",
       "      <td>0.000000</td>\n",
       "    </tr>\n",
       "    <tr>\n",
       "      <th>4</th>\n",
       "      <td>male_female</td>\n",
       "      <td>0.000000</td>\n",
       "    </tr>\n",
       "    <tr>\n",
       "      <th>0</th>\n",
       "      <td>sector</td>\n",
       "      <td>0.073272</td>\n",
       "    </tr>\n",
       "    <tr>\n",
       "      <th>5</th>\n",
       "      <td>repayment_interval</td>\n",
       "      <td>0.151506</td>\n",
       "    </tr>\n",
       "    <tr>\n",
       "      <th>2</th>\n",
       "      <td>HumDevInd</td>\n",
       "      <td>0.372528</td>\n",
       "    </tr>\n",
       "    <tr>\n",
       "      <th>3</th>\n",
       "      <td>term_in_months</td>\n",
       "      <td>0.402695</td>\n",
       "    </tr>\n",
       "  </tbody>\n",
       "</table>\n",
       "</div>"
      ],
      "text/plain": [
       "              feature  importance\n",
       "1      Conflict_ACLED    0.000000\n",
       "4         male_female    0.000000\n",
       "0              sector    0.073272\n",
       "5  repayment_interval    0.151506\n",
       "2           HumDevInd    0.372528\n",
       "3      term_in_months    0.402695"
      ]
     },
     "execution_count": 81,
     "metadata": {},
     "output_type": "execute_result"
    }
   ],
   "source": [
    "# Compute feature importances in decision tree.  We see that conflict value and gender of the borrowers did not factor at all into the splits of this model\n",
    "pd.DataFrame({'feature':feature_cols, 'importance':treereg.feature_importances_}).sort_values(by='importance')"
   ]
  },
  {
   "cell_type": "code",
   "execution_count": 82,
   "metadata": {},
   "outputs": [
    {
     "data": {
      "text/plain": [
       "202.9983494983402"
      ]
     },
     "execution_count": 82,
     "metadata": {},
     "output_type": "execute_result"
    }
   ],
   "source": [
    "# Determine the RMSE of this model\n",
    "scores = cross_val_score(treereg, X, y, cv=5, scoring='neg_mean_squared_error')\n",
    "np.mean(np.sqrt(-scores))"
   ]
  },
  {
   "cell_type": "markdown",
   "metadata": {},
   "source": [
    "# Random Forest"
   ]
  },
  {
   "cell_type": "code",
   "execution_count": 37,
   "metadata": {},
   "outputs": [],
   "source": [
    "from sklearn.ensemble import RandomForestRegressor"
   ]
  },
  {
   "cell_type": "code",
   "execution_count": 38,
   "metadata": {},
   "outputs": [
    {
     "data": {
      "text/plain": [
       "RandomForestRegressor(bootstrap=True, criterion='mse', max_depth=None,\n",
       "           max_features=5, max_leaf_nodes=None, min_impurity_decrease=0.0,\n",
       "           min_impurity_split=None, min_samples_leaf=1,\n",
       "           min_samples_split=2, min_weight_fraction_leaf=0.0,\n",
       "           n_estimators=150, n_jobs=1, oob_score=True, random_state=42,\n",
       "           verbose=0, warm_start=False)"
      ]
     },
     "execution_count": 38,
     "metadata": {},
     "output_type": "execute_result"
    }
   ],
   "source": [
    "# max_features=5 (i.e., number of features used) is best and n_estimators=150 (i.e., number of used trees) is sufficiently large.\n",
    "rfreg = RandomForestRegressor(n_estimators=150, max_features=5, oob_score=True, random_state=42)\n",
    "rfreg.fit(X, y)"
   ]
  },
  {
   "cell_type": "code",
   "execution_count": 39,
   "metadata": {},
   "outputs": [
    {
     "name": "stdout",
     "output_type": "stream",
     "text": [
      "0.49209367969321693\n"
     ]
    },
    {
     "data": {
      "text/plain": [
       "166.27278509198067"
      ]
     },
     "execution_count": 39,
     "metadata": {},
     "output_type": "execute_result"
    }
   ],
   "source": [
    "# Compute the out-of-bag R-squared score.\n",
    "print((rfreg.oob_score_))\n",
    "\n",
    "# Find the average RMSE.\n",
    "scores = cross_val_score(rfreg, X, y, cv=10, scoring='neg_mean_squared_error')\n",
    "np.mean(np.sqrt(-scores))"
   ]
  },
  {
   "cell_type": "markdown",
   "metadata": {},
   "source": [
    "## Determine most important features"
   ]
  },
  {
   "cell_type": "code",
   "execution_count": 40,
   "metadata": {},
   "outputs": [
    {
     "data": {
      "text/html": [
       "<div>\n",
       "<style scoped>\n",
       "    .dataframe tbody tr th:only-of-type {\n",
       "        vertical-align: middle;\n",
       "    }\n",
       "\n",
       "    .dataframe tbody tr th {\n",
       "        vertical-align: top;\n",
       "    }\n",
       "\n",
       "    .dataframe thead th {\n",
       "        text-align: right;\n",
       "    }\n",
       "</style>\n",
       "<table border=\"1\" class=\"dataframe\">\n",
       "  <thead>\n",
       "    <tr style=\"text-align: right;\">\n",
       "      <th></th>\n",
       "      <th>feature</th>\n",
       "      <th>importance</th>\n",
       "    </tr>\n",
       "  </thead>\n",
       "  <tbody>\n",
       "    <tr>\n",
       "      <th>1</th>\n",
       "      <td>Conflict_ACLED</td>\n",
       "      <td>0.026388</td>\n",
       "    </tr>\n",
       "    <tr>\n",
       "      <th>4</th>\n",
       "      <td>male_female</td>\n",
       "      <td>0.067730</td>\n",
       "    </tr>\n",
       "    <tr>\n",
       "      <th>5</th>\n",
       "      <td>repayment_interval</td>\n",
       "      <td>0.090547</td>\n",
       "    </tr>\n",
       "    <tr>\n",
       "      <th>0</th>\n",
       "      <td>sector</td>\n",
       "      <td>0.114006</td>\n",
       "    </tr>\n",
       "    <tr>\n",
       "      <th>3</th>\n",
       "      <td>term_in_months</td>\n",
       "      <td>0.302581</td>\n",
       "    </tr>\n",
       "    <tr>\n",
       "      <th>2</th>\n",
       "      <td>HumDevInd</td>\n",
       "      <td>0.398749</td>\n",
       "    </tr>\n",
       "  </tbody>\n",
       "</table>\n",
       "</div>"
      ],
      "text/plain": [
       "              feature  importance\n",
       "1      Conflict_ACLED    0.026388\n",
       "4         male_female    0.067730\n",
       "5  repayment_interval    0.090547\n",
       "0              sector    0.114006\n",
       "3      term_in_months    0.302581\n",
       "2           HumDevInd    0.398749"
      ]
     },
     "execution_count": 40,
     "metadata": {},
     "output_type": "execute_result"
    }
   ],
   "source": [
    "# Compute feature importances in random forest.\n",
    "pd.DataFrame({'feature':feature_cols, 'importance':rfreg.feature_importances_}).sort_values(by='importance')"
   ]
  },
  {
   "cell_type": "code",
   "execution_count": 41,
   "metadata": {},
   "outputs": [
    {
     "data": {
      "text/plain": [
       "(502715, 6)"
      ]
     },
     "execution_count": 41,
     "metadata": {},
     "output_type": "execute_result"
    }
   ],
   "source": [
    "# Check the shape of X.\n",
    "X.shape"
   ]
  },
  {
   "cell_type": "code",
   "execution_count": 42,
   "metadata": {},
   "outputs": [],
   "source": [
    "from sklearn.model_selection import train_test_split\n",
    "X_train, X_test, y_train, y_test = train_test_split(X,y, random_state = 17)"
   ]
  },
  {
   "cell_type": "code",
   "execution_count": 43,
   "metadata": {},
   "outputs": [
    {
     "data": {
      "text/plain": [
       "RandomForestRegressor(bootstrap=True, criterion='mse', max_depth=None,\n",
       "           max_features=5, max_leaf_nodes=None, min_impurity_decrease=0.0,\n",
       "           min_impurity_split=None, min_samples_leaf=1,\n",
       "           min_samples_split=2, min_weight_fraction_leaf=0.0,\n",
       "           n_estimators=150, n_jobs=1, oob_score=True, random_state=2,\n",
       "           verbose=0, warm_start=False)"
      ]
     },
     "execution_count": 43,
     "metadata": {},
     "output_type": "execute_result"
    }
   ],
   "source": [
    "# Fit the model on only the train data\n",
    "rfreg = RandomForestRegressor(n_estimators=150, max_features=5, oob_score=True, random_state=2)\n",
    "rfreg.fit(X_train, y_train)"
   ]
  },
  {
   "cell_type": "code",
   "execution_count": 44,
   "metadata": {},
   "outputs": [
    {
     "name": "stdout",
     "output_type": "stream",
     "text": [
      "(377036, 2)\n",
      "(377036, 3)\n"
     ]
    }
   ],
   "source": [
    "# Set a threshold for which features to include.\n",
    "from sklearn.feature_selection import SelectFromModel\n",
    "\n",
    "print(SelectFromModel(rfreg, threshold='mean', prefit=True).transform(X_train).shape)\n",
    "print(SelectFromModel(rfreg, threshold='median', prefit=True).transform(X_train).shape)"
   ]
  },
  {
   "cell_type": "code",
   "execution_count": 45,
   "metadata": {},
   "outputs": [],
   "source": [
    "# Create matrix with only important features.  I chose to include through the median number of variables based on importance score.\n",
    "\n",
    "X_important =  SelectFromModel(rfreg, threshold='median', prefit=True).transform(X_test)"
   ]
  },
  {
   "cell_type": "code",
   "execution_count": 46,
   "metadata": {},
   "outputs": [
    {
     "data": {
      "text/plain": [
       "167.6446910752821"
      ]
     },
     "execution_count": 46,
     "metadata": {},
     "output_type": "execute_result"
    }
   ],
   "source": [
    "# Check the RMSE for a random forest that only includes my important features.\n",
    "#RMSE increased slightly from the out-of-the-box value of the RF model, but it is slightly lower error that the decision tree model\n",
    "rfreg = RandomForestRegressor(n_estimators=150, max_features=3, random_state=1)\n",
    "\n",
    "scores = cross_val_score(rfreg, X_important, y_test, cv=5, scoring='neg_mean_squared_error')\n",
    "np.mean(np.sqrt(-scores))"
   ]
  },
  {
   "cell_type": "markdown",
   "metadata": {},
   "source": [
    "## Tuning Random Forest Model Parameters"
   ]
  },
  {
   "cell_type": "markdown",
   "metadata": {},
   "source": [
    "### Here, I attempted to optimize my random forest model integrating all features"
   ]
  },
  {
   "cell_type": "code",
   "execution_count": 47,
   "metadata": {},
   "outputs": [
    {
     "data": {
      "text/plain": [
       "RandomForestRegressor(bootstrap=True, criterion='mse', max_depth=None,\n",
       "           max_features='auto', max_leaf_nodes=None,\n",
       "           min_impurity_decrease=0.0, min_impurity_split=None,\n",
       "           min_samples_leaf=1, min_samples_split=2,\n",
       "           min_weight_fraction_leaf=0.0, n_estimators=10, n_jobs=1,\n",
       "           oob_score=False, random_state=None, verbose=0, warm_start=False)"
      ]
     },
     "execution_count": 47,
     "metadata": {},
     "output_type": "execute_result"
    }
   ],
   "source": [
    "rfreg = RandomForestRegressor()\n",
    "rfreg"
   ]
  },
  {
   "cell_type": "code",
   "execution_count": 48,
   "metadata": {},
   "outputs": [],
   "source": [
    "#I'm going to begin by trying to optimize for the number of n_estimators (i.e., the number of trees in my forest)\n",
    "\n",
    "# List of values to try for n_estimators:\n",
    "estimator_range = list(range(10, 310, 10))\n",
    "\n",
    "# List to store the average RMSE for each value of n_estimators:\n",
    "RMSE_scores = []\n",
    "\n",
    "# Used five-fold cross-validation with each value of n_estimators\n",
    "for estimator in estimator_range:\n",
    "    rfreg = RandomForestRegressor(n_estimators=estimator, random_state=1)\n",
    "    MSE_scores = cross_val_score(rfreg, X, y, cv=5, scoring='neg_mean_squared_error')\n",
    "    RMSE_scores.append(np.mean(np.sqrt(-MSE_scores)))"
   ]
  },
  {
   "cell_type": "code",
   "execution_count": 49,
   "metadata": {},
   "outputs": [
    {
     "data": {
      "image/png": "[encoded data removed]",
      "text/plain": [
       "<matplotlib.figure.Figure at 0x133ac2b6668>"
      ]
     },
     "metadata": {},
     "output_type": "display_data"
    }
   ],
   "source": [
    "# Plot RMSE (y-axis) versus n_estimators (x-axis).\n",
    "\n",
    "plt.plot(estimator_range, RMSE_scores);\n",
    "\n",
    "plt.xlabel('n_estimators');\n",
    "plt.ylabel('RMSE (lower is better)');"
   ]
  },
  {
   "cell_type": "code",
   "execution_count": 50,
   "metadata": {},
   "outputs": [],
   "source": [
    "# Now let's look at the optimum number of max features to be considered at each split\n",
    "\n",
    "# List of values to try for max_features:\n",
    "feature_range = list(range(1, len(feature_cols)+1))\n",
    "\n",
    "# List to store the average RMSE for each value of max_features:\n",
    "RMSE_scores = []\n",
    "\n",
    "# Used 5-fold cross-validation with each value of max_features.\n",
    "for feature in feature_range:\n",
    "    rfreg = RandomForestRegressor(n_estimators=240, max_features=feature, random_state=1)\n",
    "    MSE_scores = cross_val_score(rfreg, X, y, cv=5, scoring='neg_mean_squared_error')\n",
    "    RMSE_scores.append(np.mean(np.sqrt(-MSE_scores)))"
   ]
  },
  {
   "cell_type": "code",
   "execution_count": 51,
   "metadata": {},
   "outputs": [
    {
     "data": {
      "image/png": "[encoded data removed]",
      "text/plain": [
       "<matplotlib.figure.Figure at 0x133ac1cc5c0>"
      ]
     },
     "metadata": {},
     "output_type": "display_data"
    }
   ],
   "source": [
    "# Plot max_features (x-axis) versus RMSE (y-axis).\n",
    "\n",
    "plt.plot(feature_range, RMSE_scores);\n",
    "\n",
    "plt.xlabel('max_features');\n",
    "plt.ylabel('RMSE (lower is better)');"
   ]
  },
  {
   "cell_type": "code",
   "execution_count": 52,
   "metadata": {},
   "outputs": [
    {
     "data": {
      "text/plain": [
       "(167.90763468098788, 3)"
      ]
     },
     "execution_count": 52,
     "metadata": {},
     "output_type": "execute_result"
    }
   ],
   "source": [
    "# Show the best RMSE and the corresponding max_features.\n",
    "sorted(zip(RMSE_scores, feature_range))[0]"
   ]
  },
  {
   "cell_type": "markdown",
   "metadata": {},
   "source": [
    "## Optimized Random Forest Model"
   ]
  },
  {
   "cell_type": "markdown",
   "metadata": {},
   "source": [
    "### Tuning a new Random Forest model for Optimized/most important features"
   ]
  },
  {
   "cell_type": "code",
   "execution_count": 53,
   "metadata": {},
   "outputs": [
    {
     "data": {
      "text/plain": [
       "RandomForestRegressor(bootstrap=True, criterion='mse', max_depth=None,\n",
       "           max_features='auto', max_leaf_nodes=None,\n",
       "           min_impurity_decrease=0.0, min_impurity_split=None,\n",
       "           min_samples_leaf=1, min_samples_split=2,\n",
       "           min_weight_fraction_leaf=0.0, n_estimators=10, n_jobs=1,\n",
       "           oob_score=False, random_state=None, verbose=0, warm_start=False)"
      ]
     },
     "execution_count": 53,
     "metadata": {},
     "output_type": "execute_result"
    }
   ],
   "source": [
    "rfreg = RandomForestRegressor()\n",
    "rfreg"
   ]
  },
  {
   "cell_type": "code",
   "execution_count": 54,
   "metadata": {},
   "outputs": [],
   "source": [
    "# Let's optimize for the number of trees in my forest\n",
    "\n",
    "# List of values to try for n_estimators:\n",
    "estimator_range = list(range(10, 310, 10))\n",
    "\n",
    "# List to store the average RMSE for each value of n_estimators:\n",
    "RMSE_scores = []\n",
    "\n",
    "# Defining features to be only the most important ones, as determined above (under \"determine most important features\")\n",
    "feature_cols_rf_opt = feature_cols.drop(['Conflict_ACLED', 'male_female', 'repayment_interval'])\n",
    "X_rf_opt = kiva_1000[feature_cols_rf_opt]\n",
    "\n",
    "# Used five-fold cross-validation with each value of n_estimators\n",
    "for estimator in estimator_range:\n",
    "    rfreg = RandomForestRegressor(n_estimators=estimator, random_state=1)\n",
    "    MSE_scores = cross_val_score(rfreg, X_rf_opt, y, cv=5, scoring='neg_mean_squared_error')\n",
    "    RMSE_scores.append(np.mean(np.sqrt(-MSE_scores)))"
   ]
  },
  {
   "cell_type": "code",
   "execution_count": 55,
   "metadata": {},
   "outputs": [
    {
     "data": {
      "image/png": "[encoded data removed]",
      "text/plain": [
       "<matplotlib.figure.Figure at 0x13380577358>"
      ]
     },
     "metadata": {},
     "output_type": "display_data"
    }
   ],
   "source": [
    "# Plot RMSE (y-axis) versus n_estimators (x-axis).\n",
    "\n",
    "plt.plot(estimator_range, RMSE_scores);\n",
    "\n",
    "plt.xlabel('n_estimators');\n",
    "plt.ylabel('RMSE (lower is better)');"
   ]
  },
  {
   "cell_type": "markdown",
   "metadata": {},
   "source": [
    "#### At approximately 80 estimators, the RMSE appears to be minimized."
   ]
  },
  {
   "cell_type": "code",
   "execution_count": 56,
   "metadata": {},
   "outputs": [],
   "source": [
    "# Altered n_estimators based on optimal finding above\n",
    "# Now let's look for the optimum number of maximum features at each split\n",
    "\n",
    "# List of values to try for max_features:\n",
    "feature_range = list(range(1, len(feature_cols)+1))\n",
    "\n",
    "# List to store the average RMSE for each value of max_features:\n",
    "RMSE_scores = []\n",
    "\n",
    "# Used 5-fold cross-validation with each value of max_features.\n",
    "for feature in feature_range:\n",
    "    rfreg = RandomForestRegressor(n_estimators=80, max_features=feature, random_state=1)\n",
    "    MSE_scores = cross_val_score(rfreg, X, y, cv=5, scoring='neg_mean_squared_error')\n",
    "    RMSE_scores.append(np.mean(np.sqrt(-MSE_scores)))"
   ]
  },
  {
   "cell_type": "code",
   "execution_count": 57,
   "metadata": {},
   "outputs": [
    {
     "data": {
      "image/png": "[encoded data removed]",
      "text/plain": [
       "<matplotlib.figure.Figure at 0x13380934cc0>"
      ]
     },
     "metadata": {},
     "output_type": "display_data"
    }
   ],
   "source": [
    "# Plot max_features (x-axis) versus RMSE (y-axis).\n",
    "\n",
    "plt.plot(feature_range, RMSE_scores);\n",
    "\n",
    "plt.xlabel('max_features');\n",
    "plt.ylabel('RMSE (lower is better)');"
   ]
  },
  {
   "cell_type": "code",
   "execution_count": 58,
   "metadata": {},
   "outputs": [
    {
     "data": {
      "text/plain": [
       "(167.93758006489367, 2)"
      ]
     },
     "execution_count": 58,
     "metadata": {},
     "output_type": "execute_result"
    }
   ],
   "source": [
    "# Show the best RMSE and the corresponding max_features.\n",
    "sorted(zip(RMSE_scores, feature_range))[0]"
   ]
  },
  {
   "cell_type": "code",
   "execution_count": 59,
   "metadata": {},
   "outputs": [],
   "source": [
    "# Must redo train-test-split to fit model on new train and test data since we adjusted X to only the most important features\n",
    "\n",
    "from sklearn.model_selection import train_test_split\n",
    "\n",
    "#restating X for clarity and designating y\n",
    "X_rf_opt = kiva_1000[feature_cols_rf_opt]\n",
    "y = kiva_1000.loan_amount\n",
    "\n",
    "X_train, X_test, y_train, y_test = train_test_split(X_rf_opt,y, random_state = 17)"
   ]
  },
  {
   "cell_type": "code",
   "execution_count": 60,
   "metadata": {},
   "outputs": [
    {
     "data": {
      "text/plain": [
       "RandomForestRegressor(bootstrap=True, criterion='mse', max_depth=None,\n",
       "           max_features=2, max_leaf_nodes=None, min_impurity_decrease=0.0,\n",
       "           min_impurity_split=None, min_samples_leaf=1,\n",
       "           min_samples_split=2, min_weight_fraction_leaf=0.0,\n",
       "           n_estimators=80, n_jobs=1, oob_score=False, random_state=1,\n",
       "           verbose=0, warm_start=False)"
      ]
     },
     "execution_count": 60,
     "metadata": {},
     "output_type": "execute_result"
    }
   ],
   "source": [
    "#Run new RF on train data considering only my most important variables and integrating optimal estimator and max_feature #\n",
    "\n",
    "rfreg = RandomForestRegressor(n_estimators=80, max_features=2, random_state=1)\n",
    "rfreg.fit(X_train, y_train)"
   ]
  },
  {
   "cell_type": "code",
   "execution_count": 61,
   "metadata": {},
   "outputs": [
    {
     "data": {
      "text/plain": [
       "167.59830753487122"
      ]
     },
     "execution_count": 61,
     "metadata": {},
     "output_type": "execute_result"
    }
   ],
   "source": [
    "#Check the RMSE for the optimized RF model on the new test data\n",
    "\n",
    "scores = cross_val_score(rfreg, X_test, y_test, cv=5, scoring='neg_mean_squared_error')\n",
    "np.mean(np.sqrt(-scores))"
   ]
  },
  {
   "cell_type": "markdown",
   "metadata": {},
   "source": [
    "# Linear Regression"
   ]
  },
  {
   "cell_type": "markdown",
   "metadata": {},
   "source": [
    "## LR1. Out-of-the-box Linear Regression Models"
   ]
  },
  {
   "cell_type": "markdown",
   "metadata": {},
   "source": [
    "### LinReg of all features independently in predicting loan amount"
   ]
  },
  {
   "cell_type": "code",
   "execution_count": 62,
   "metadata": {},
   "outputs": [
    {
     "data": {
      "text/plain": [
       "<seaborn.axisgrid.PairGrid at 0x133808af438>"
      ]
     },
     "execution_count": 62,
     "metadata": {},
     "output_type": "execute_result"
    },
    {
     "data": {
      "image/png": "[encoded data removed]",
      "text/plain": [
       "<matplotlib.figure.Figure at 0x133808af470>"
      ]
     },
     "metadata": {},
     "output_type": "display_data"
    }
   ],
   "source": [
    "#All three attributes in separate plots as the variables impacting price\n",
    "#Nothing here really looks promising in correlation values\n",
    "sns.pairplot(kiva_1000, x_vars=feature_cols, y_vars='loan_amount', kind='reg')"
   ]
  },
  {
   "cell_type": "code",
   "execution_count": 63,
   "metadata": {},
   "outputs": [
    {
     "data": {
      "text/html": [
       "<div>\n",
       "<style scoped>\n",
       "    .dataframe tbody tr th:only-of-type {\n",
       "        vertical-align: middle;\n",
       "    }\n",
       "\n",
       "    .dataframe tbody tr th {\n",
       "        vertical-align: top;\n",
       "    }\n",
       "\n",
       "    .dataframe thead th {\n",
       "        text-align: right;\n",
       "    }\n",
       "</style>\n",
       "<table border=\"1\" class=\"dataframe\">\n",
       "  <thead>\n",
       "    <tr style=\"text-align: right;\">\n",
       "      <th></th>\n",
       "      <th>loan_amount</th>\n",
       "      <th>sector</th>\n",
       "      <th>Conflict_ACLED</th>\n",
       "      <th>HumDevInd</th>\n",
       "      <th>term_in_months</th>\n",
       "      <th>male_female</th>\n",
       "      <th>repayment_interval</th>\n",
       "    </tr>\n",
       "  </thead>\n",
       "  <tbody>\n",
       "    <tr>\n",
       "      <th>loan_amount</th>\n",
       "      <td>1.000000</td>\n",
       "      <td>-0.020049</td>\n",
       "      <td>0.048793</td>\n",
       "      <td>0.098333</td>\n",
       "      <td>0.199354</td>\n",
       "      <td>0.118035</td>\n",
       "      <td>0.210848</td>\n",
       "    </tr>\n",
       "    <tr>\n",
       "      <th>sector</th>\n",
       "      <td>-0.020049</td>\n",
       "      <td>1.000000</td>\n",
       "      <td>-0.072713</td>\n",
       "      <td>-0.003629</td>\n",
       "      <td>0.166712</td>\n",
       "      <td>0.123079</td>\n",
       "      <td>0.192909</td>\n",
       "    </tr>\n",
       "    <tr>\n",
       "      <th>Conflict_ACLED</th>\n",
       "      <td>0.048793</td>\n",
       "      <td>-0.072713</td>\n",
       "      <td>1.000000</td>\n",
       "      <td>0.784367</td>\n",
       "      <td>-0.123552</td>\n",
       "      <td>-0.141630</td>\n",
       "      <td>-0.289724</td>\n",
       "    </tr>\n",
       "    <tr>\n",
       "      <th>HumDevInd</th>\n",
       "      <td>0.098333</td>\n",
       "      <td>-0.003629</td>\n",
       "      <td>0.784367</td>\n",
       "      <td>1.000000</td>\n",
       "      <td>0.011104</td>\n",
       "      <td>-0.140378</td>\n",
       "      <td>-0.206956</td>\n",
       "    </tr>\n",
       "    <tr>\n",
       "      <th>term_in_months</th>\n",
       "      <td>0.199354</td>\n",
       "      <td>0.166712</td>\n",
       "      <td>-0.123552</td>\n",
       "      <td>0.011104</td>\n",
       "      <td>1.000000</td>\n",
       "      <td>0.037961</td>\n",
       "      <td>0.220844</td>\n",
       "    </tr>\n",
       "    <tr>\n",
       "      <th>male_female</th>\n",
       "      <td>0.118035</td>\n",
       "      <td>0.123079</td>\n",
       "      <td>-0.141630</td>\n",
       "      <td>-0.140378</td>\n",
       "      <td>0.037961</td>\n",
       "      <td>1.000000</td>\n",
       "      <td>0.224889</td>\n",
       "    </tr>\n",
       "    <tr>\n",
       "      <th>repayment_interval</th>\n",
       "      <td>0.210848</td>\n",
       "      <td>0.192909</td>\n",
       "      <td>-0.289724</td>\n",
       "      <td>-0.206956</td>\n",
       "      <td>0.220844</td>\n",
       "      <td>0.224889</td>\n",
       "      <td>1.000000</td>\n",
       "    </tr>\n",
       "  </tbody>\n",
       "</table>\n",
       "</div>"
      ],
      "text/plain": [
       "                    loan_amount    sector  Conflict_ACLED  HumDevInd  \\\n",
       "loan_amount            1.000000 -0.020049        0.048793   0.098333   \n",
       "sector                -0.020049  1.000000       -0.072713  -0.003629   \n",
       "Conflict_ACLED         0.048793 -0.072713        1.000000   0.784367   \n",
       "HumDevInd              0.098333 -0.003629        0.784367   1.000000   \n",
       "term_in_months         0.199354  0.166712       -0.123552   0.011104   \n",
       "male_female            0.118035  0.123079       -0.141630  -0.140378   \n",
       "repayment_interval     0.210848  0.192909       -0.289724  -0.206956   \n",
       "\n",
       "                    term_in_months  male_female  repayment_interval  \n",
       "loan_amount               0.199354     0.118035            0.210848  \n",
       "sector                    0.166712     0.123079            0.192909  \n",
       "Conflict_ACLED           -0.123552    -0.141630           -0.289724  \n",
       "HumDevInd                 0.011104    -0.140378           -0.206956  \n",
       "term_in_months            1.000000     0.037961            0.220844  \n",
       "male_female               0.037961     1.000000            0.224889  \n",
       "repayment_interval        0.220844     0.224889            1.000000  "
      ]
     },
     "execution_count": 63,
     "metadata": {},
     "output_type": "execute_result"
    }
   ],
   "source": [
    "#Again, we see pretty low correlation values between single features\n",
    "kiva_1000.corr()"
   ]
  },
  {
   "cell_type": "code",
   "execution_count": 64,
   "metadata": {},
   "outputs": [
    {
     "data": {
      "image/png": "[encoded data removed]",
      "text/plain": [
       "<matplotlib.figure.Figure at 0x1338094ff60>"
      ]
     },
     "metadata": {},
     "output_type": "display_data"
    }
   ],
   "source": [
    "#Yep, low correlation between most features\n",
    "sns.heatmap(kiva_1000.corr());"
   ]
  },
  {
   "cell_type": "markdown",
   "metadata": {},
   "source": [
    "#### Generally, we see low correlation between any particular feature and the loan amount.  There are also pretty low correlations between any other features except the ACLED conflict data and the Human Development Index."
   ]
  },
  {
   "cell_type": "markdown",
   "metadata": {},
   "source": [
    "### LinReg of all features combined to predict loan amount"
   ]
  },
  {
   "cell_type": "code",
   "execution_count": 65,
   "metadata": {},
   "outputs": [
    {
     "name": "stdout",
     "output_type": "stream",
     "text": [
      "94.28242213976756\n",
      "[ -5.50933159  19.97189705 322.46673122   5.5477844   40.68356929\n",
      "  49.21510935]\n"
     ]
    }
   ],
   "source": [
    "#Build a linear regression considering all features to predict loan\n",
    "\n",
    "from sklearn.linear_model import LinearRegression\n",
    "\n",
    "# Create X and y.\n",
    "Xcombined = kiva_1000[feature_cols]\n",
    "ycombined = kiva_1000.loan_amount\n",
    "\n",
    "# Instantiate and fit linear regression model.\n",
    "linreg = LinearRegression()\n",
    "linreg.fit(Xcombined, ycombined)\n",
    "\n",
    "# Print the coefficients.\n",
    "print(linreg.intercept_)\n",
    "print(linreg.coef_)"
   ]
  },
  {
   "cell_type": "markdown",
   "metadata": {},
   "source": [
    "## LR2. Train-Test-Split to Generate a Linear Regression Model"
   ]
  },
  {
   "cell_type": "markdown",
   "metadata": {},
   "source": [
    "### Testing Null: For comparison with final model, will generate null RMSE to see if the model improves upon predicting mean values"
   ]
  },
  {
   "cell_type": "code",
   "execution_count": 66,
   "metadata": {},
   "outputs": [],
   "source": [
    "from sklearn.model_selection import train_test_split\n",
    "from sklearn import metrics"
   ]
  },
  {
   "cell_type": "code",
   "execution_count": 67,
   "metadata": {},
   "outputs": [
    {
     "data": {
      "text/plain": [
       "array([409.89564685, 409.89564685, 409.89564685, ..., 409.89564685,\n",
       "       409.89564685, 409.89564685])"
      ]
     },
     "execution_count": 67,
     "metadata": {},
     "output_type": "execute_result"
    }
   ],
   "source": [
    "# Split X and y into training and testing sets.\n",
    "X_train, X_test, y_train, y_test = train_test_split(X, y, random_state=123)\n",
    "\n",
    "# Create a NumPy array with the same shape as y_test.\n",
    "y_null = np.zeros_like(y_test, dtype=float)\n",
    "\n",
    "# Fill the array with the mean value of y_test.\n",
    "y_null.fill(y_test.mean())\n",
    "y_null"
   ]
  },
  {
   "cell_type": "code",
   "execution_count": 68,
   "metadata": {},
   "outputs": [
    {
     "data": {
      "text/plain": [
       "225.73406252008544"
      ]
     },
     "execution_count": 68,
     "metadata": {},
     "output_type": "execute_result"
    }
   ],
   "source": [
    "# Compute null RMSE.\n",
    "np.sqrt(metrics.mean_squared_error(y_test, y_null))"
   ]
  },
  {
   "cell_type": "markdown",
   "metadata": {},
   "source": [
    "### Generate Linear Regression"
   ]
  },
  {
   "cell_type": "markdown",
   "metadata": {},
   "source": [
    "#### Find most important features"
   ]
  },
  {
   "cell_type": "code",
   "execution_count": 96,
   "metadata": {},
   "outputs": [],
   "source": [
    "#Import Recursive Feature Elimination through scikitlearn to be able to identify the attribute that contribute most to predicting the target value\n",
    "from sklearn.feature_selection import RFE\n",
    "lingreg= LinearRegression()"
   ]
  },
  {
   "cell_type": "code",
   "execution_count": 97,
   "metadata": {},
   "outputs": [
    {
     "name": "stdout",
     "output_type": "stream",
     "text": [
      "Num Features: 1\n",
      "Selected Features: [False False  True False False False]\n",
      "Feature Ranking: [6 4 1 5 3 2]\n"
     ]
    }
   ],
   "source": [
    "#Call recursive feature elimination looking for the top feature; will output the ranking of all the features\n",
    "\n",
    "#define data\n",
    "X = kiva_1000[feature_cols]\n",
    "y = kiva_1000.loan_amount\n",
    "\n",
    "#feature extraction\n",
    "rfe=RFE(linreg, 1)\n",
    "fit=rfe.fit(X,y)\n",
    "\n",
    "print(\"Num Features: %d\" % fit.n_features_)\n",
    "print(\"Selected Features: %s\" % fit.support_)\n",
    "print(\"Feature Ranking: %s\" % fit.ranking_)"
   ]
  },
  {
   "cell_type": "code",
   "execution_count": 98,
   "metadata": {},
   "outputs": [
    {
     "data": {
      "text/plain": [
       "Index(['sector', 'Conflict_ACLED', 'HumDevInd', 'term_in_months',\n",
       "       'male_female', 'repayment_interval'],\n",
       "      dtype='object')"
      ]
     },
     "execution_count": 98,
     "metadata": {},
     "output_type": "execute_result"
    }
   ],
   "source": [
    "# Call feature_cols to see the features in order of correlation\n",
    "# We see that the order of important features is:\n",
    "#1. Human Development Index\n",
    "#2. Repayment Interval\n",
    "#3. Male or female designation of borrowers\n",
    "#4. Conflict presence (ACLED data)\n",
    "#5. Term length in months\n",
    "#6. Sector of the activity\n",
    "feature_cols"
   ]
  },
  {
   "cell_type": "markdown",
   "metadata": {},
   "source": [
    "#### Create Model, Use Train-Test-Split"
   ]
  },
  {
   "cell_type": "code",
   "execution_count": 99,
   "metadata": {},
   "outputs": [],
   "source": [
    "# Define a function that accepts a list of features and returns testing RMSE; stayed with default train-test-split of 75% train, 25% test\n",
    "def train_test_rmse(kiva_1000, feature_cols):\n",
    "    X = kiva_1000[feature_cols]\n",
    "    y = kiva_1000.loan_amount\n",
    "    \n",
    "    X_train, X_test, y_train, y_test = train_test_split(X, y, random_state=123)\n",
    "    \n",
    "    linreg.fit(X_train, y_train) #fits the linear regression to the training data\n",
    "    \n",
    "    y_pred = linreg.predict(X_test) #generates predictions against the test data\n",
    "    return np.sqrt(metrics.mean_squared_error(y_test, y_pred))"
   ]
  },
  {
   "cell_type": "code",
   "execution_count": 100,
   "metadata": {},
   "outputs": [
    {
     "name": "stdout",
     "output_type": "stream",
     "text": [
      "213.69826116707014\n",
      "214.72021020558373\n",
      "217.34654170312072\n",
      "217.3503658507454\n",
      "218.26384827167746\n",
      "224.69998783157735\n"
     ]
    }
   ],
   "source": [
    "# printing the RMSE for several different combinations of features, dropping off variables in reverse order of importance (RFE-determined)\n",
    "print (train_test_rmse(kiva_1000, ['term_in_months', 'HumDevInd', 'sector', 'repayment_interval', 'male_female', 'Conflict_ACLED']))\n",
    "print (train_test_rmse(kiva_1000, ['term_in_months', 'HumDevInd', 'repayment_interval', 'male_female', 'Conflict_ACLED']))\n",
    "print (train_test_rmse(kiva_1000, ['HumDevInd', 'repayment_interval', 'male_female', 'Conflict_ACLED']))\n",
    "print (train_test_rmse(kiva_1000, ['HumDevInd', 'repayment_interval', 'male_female']))\n",
    "print (train_test_rmse(kiva_1000, ['HumDevInd', 'repayment_interval']))\n",
    "print (train_test_rmse(kiva_1000, ['HumDevInd']))\n"
   ]
  },
  {
   "cell_type": "code",
   "execution_count": 104,
   "metadata": {},
   "outputs": [
    {
     "name": "stdout",
     "output_type": "stream",
     "text": [
      "78.68669649330866\n",
      "[427.6721267   36.62922403  53.11924621]\n",
      "217.35036585074536\n"
     ]
    }
   ],
   "source": [
    "#Developed a linear regression for the \"most important features\" based on RFE\n",
    "\n",
    "feature_cols_lr_imprtfeat = feature_cols.drop(['Conflict_ACLED', 'sector', 'term_in_months'])\n",
    "X_lr_opt = kiva_1000[feature_cols_lr_imprtfeat]\n",
    "ycombined = kiva_1000.loan_amount\n",
    "\n",
    "# Instantiate and fit linear regression model.\n",
    "linreg = LinearRegression()\n",
    "linreg.fit(X_lr_opt, ycombined)\n",
    "\n",
    "# Print the coefficients.\n",
    "print(linreg.intercept_)\n",
    "print(linreg.coef_)\n",
    "\n",
    "print (train_test_rmse(kiva_1000, feature_cols_lr_imprtfeat))"
   ]
  },
  {
   "cell_type": "code",
   "execution_count": 113,
   "metadata": {},
   "outputs": [
    {
     "name": "stdout",
     "output_type": "stream",
     "text": [
      "77.76173104942279\n",
      "[428.9804039   36.42711012  53.09877667]\n",
      "217.35036585074536\n"
     ]
    },
    {
     "data": {
      "image/png": "[encoded data removed]",
      "text/plain": [
       "<matplotlib.figure.Figure at 0x133807ae080>"
      ]
     },
     "metadata": {},
     "output_type": "display_data"
    }
   ],
   "source": [
    "#Developed a linear regression for the \"most important features\" based on RFE, do a train-test-split method to develop/score the model\n",
    "\n",
    "feature_cols_lr_imprtfeat = feature_cols.drop(['Conflict_ACLED', 'sector', 'term_in_months'])\n",
    "X_lr_opt = kiva_1000[feature_cols_lr_imprtfeat]\n",
    "\n",
    "def train_test_rmse(kiva_1000, feature_cols):\n",
    "    X = X_lr_opt\n",
    "    y = kiva_1000.loan_amount\n",
    "    \n",
    "    X_train, X_test, y_train, y_test = train_test_split(X, y, random_state=123)\n",
    "    \n",
    "    linreg.fit(X_train, y_train) #fits the linear regression to the training data\n",
    "    \n",
    "    y_pred = linreg.predict(X_test) #generates predictions against the test data\n",
    "    \n",
    "    plt.scatter(y_test, y_pred) #plots the test data loan amount versus the predicted loan amount from the model\n",
    "    plt.xlabel('loan amount test data')\n",
    "    plt.ylabel('loan amount predicted')\n",
    "    return np.sqrt(metrics.mean_squared_error(y_test, y_pred))\n",
    "\n",
    "# Print the coefficients.\n",
    "print(linreg.intercept_)\n",
    "print(linreg.coef_)\n",
    "\n",
    "print (train_test_rmse(kiva_1000, feature_cols_lr_imprtfeat))\n"
   ]
  },
  {
   "cell_type": "markdown",
   "metadata": {},
   "source": [
    "### Yikes, that is not a great distribution for test loan amount information versus predicted loan amount.  Linear regression may not be the best choice here."
   ]
  }
 ],
 "metadata": {
  "kernelspec": {
   "display_name": "Python 3",
   "language": "python",
   "name": "python3"
  },
  "language_info": {
   "codemirror_mode": {
    "name": "ipython",
    "version": 3
   },
   "file_extension": ".py",
   "mimetype": "text/x-python",
   "name": "python",
   "nbconvert_exporter": "python",
   "pygments_lexer": "ipython3",
   "version": "3.6.4"
  }
 },
 "nbformat": 4,
 "nbformat_minor": 2
}
