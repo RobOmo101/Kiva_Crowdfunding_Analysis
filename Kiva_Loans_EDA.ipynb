{
 "cells": [
  {
   "cell_type": "markdown",
   "metadata": {},
   "source": [
    "# Work with CSVs"
   ]
  },
  {
   "cell_type": "markdown",
   "metadata": {},
   "source": [
    "Data from https://www.kaggle.com/kiva/data-science-for-good-kiva-crowdfunding/data\n",
    "*QUESTIONS MARKED WITH ASTERISKS\n",
    "\n",
    "Assess factors with strongest predictive value for loan amount via kiva crowdfunding platform\n",
    "\n",
    "- Have multiple CSVs that would make up a relational database (Excel currently crashing on my old computer because file is so big, but I am going to import relevant data based on the unique key [Loan ID] to create new columns in a master CSV file)\n",
    "    - Loan data\n",
    "    - Loan themes\n",
    "    - Loan region locations\n",
    "- External data\n",
    "    - Human Development Index - how \"developed\" are the regions where the loans are granted?\n",
    "        - Limitations: Using the HDI Index as a whole - not looking at detailed other indices/factors that go into the overall HDI\n",
    "        - Also, only available by nation; each region could be unique\n",
    "    - Conflict Index - is the exact region identified in the loan in the ACLED Conflict data?\n",
    "        - *How problematic could it be if the region is spelled differently in its translation into the English alphabet?\n",
    "        - *Should I instead do a plus or minus based on longitude/latitude?\n",
    "        - *How do I establish a data dictionary for the data?  I have it from kaggle, would like it to be in my code\n",
    "        - *Different of timing of kiva loan data and conflict data - compare to having been in ACLED conflict data within past few years?  Do I need to compare it with year of getting the kiva loan?\n",
    "\n",
    "GENERAL QUESTIONS:\n",
    "- *How deal with severe skew in data (do only < 2K or 5K?)?  In multiple segments (0-2, 2-11, 1-40, 40-100K?)?  Logistic regression?"
   ]
  },
  {
   "cell_type": "code",
   "execution_count": 1,
   "metadata": {
    "collapsed": true
   },
   "outputs": [],
   "source": [
    "import matplotlib.pyplot as plt\n",
    "\n",
    "% matplotlib inline"
   ]
  },
  {
   "cell_type": "code",
   "execution_count": 3,
   "metadata": {
    "collapsed": false
   },
   "outputs": [],
   "source": [
    "import pandas as pd\n",
    "import numpy as np\n",
    "#kiva = pd.read_csv('C:\\Users\\carol_000\\Documents\\DSDC26'\\kiva_loans.csv)\n",
    "kiva = pd.read_csv('kiva_loans.csv')"
   ]
  },
  {
   "cell_type": "code",
   "execution_count": 4,
   "metadata": {
    "collapsed": false
   },
   "outputs": [
    {
     "data": {
      "text/html": [
       "<div>\n",
       "<table border=\"1\" class=\"dataframe\">\n",
       "  <thead>\n",
       "    <tr style=\"text-align: right;\">\n",
       "      <th></th>\n",
       "      <th>id</th>\n",
       "      <th>funded_amount</th>\n",
       "      <th>loan_amount</th>\n",
       "      <th>activity</th>\n",
       "      <th>sector</th>\n",
       "      <th>use</th>\n",
       "      <th>country_code</th>\n",
       "      <th>country</th>\n",
       "      <th>region</th>\n",
       "      <th>currency</th>\n",
       "      <th>partner_id</th>\n",
       "      <th>posted_time</th>\n",
       "      <th>disbursed_time</th>\n",
       "      <th>funded_time</th>\n",
       "      <th>term_in_months</th>\n",
       "      <th>lender_count</th>\n",
       "      <th>tags</th>\n",
       "      <th>borrower_genders</th>\n",
       "      <th>repayment_interval</th>\n",
       "      <th>date</th>\n",
       "    </tr>\n",
       "  </thead>\n",
       "  <tbody>\n",
       "    <tr>\n",
       "      <th>0</th>\n",
       "      <td>653051</td>\n",
       "      <td>300</td>\n",
       "      <td>300</td>\n",
       "      <td>Fruits &amp; Vegetables</td>\n",
       "      <td>Food</td>\n",
       "      <td>To buy seasonal, fresh fruits to sell.</td>\n",
       "      <td>PK</td>\n",
       "      <td>Pakistan</td>\n",
       "      <td>Lahore</td>\n",
       "      <td>PKR</td>\n",
       "      <td>247.0</td>\n",
       "      <td>2014-01-01 06:12:39+00:00</td>\n",
       "      <td>2013-12-17 08:00:00+00:00</td>\n",
       "      <td>2014-01-02 10:06:32+00:00</td>\n",
       "      <td>12</td>\n",
       "      <td>12</td>\n",
       "      <td>NaN</td>\n",
       "      <td>female</td>\n",
       "      <td>irregular</td>\n",
       "      <td>1/1/2014</td>\n",
       "    </tr>\n",
       "    <tr>\n",
       "      <th>1</th>\n",
       "      <td>653053</td>\n",
       "      <td>575</td>\n",
       "      <td>575</td>\n",
       "      <td>Rickshaw</td>\n",
       "      <td>Transportation</td>\n",
       "      <td>to repair and maintain the auto rickshaw used ...</td>\n",
       "      <td>PK</td>\n",
       "      <td>Pakistan</td>\n",
       "      <td>Lahore</td>\n",
       "      <td>PKR</td>\n",
       "      <td>247.0</td>\n",
       "      <td>2014-01-01 06:51:08+00:00</td>\n",
       "      <td>2013-12-17 08:00:00+00:00</td>\n",
       "      <td>2014-01-02 09:17:23+00:00</td>\n",
       "      <td>11</td>\n",
       "      <td>14</td>\n",
       "      <td>NaN</td>\n",
       "      <td>female, female</td>\n",
       "      <td>irregular</td>\n",
       "      <td>1/1/2014</td>\n",
       "    </tr>\n",
       "    <tr>\n",
       "      <th>2</th>\n",
       "      <td>653068</td>\n",
       "      <td>150</td>\n",
       "      <td>150</td>\n",
       "      <td>Transportation</td>\n",
       "      <td>Transportation</td>\n",
       "      <td>To repair their old cycle-van and buy another ...</td>\n",
       "      <td>IN</td>\n",
       "      <td>India</td>\n",
       "      <td>Maynaguri</td>\n",
       "      <td>INR</td>\n",
       "      <td>334.0</td>\n",
       "      <td>2014-01-01 09:58:07+00:00</td>\n",
       "      <td>2013-12-17 08:00:00+00:00</td>\n",
       "      <td>2014-01-01 16:01:36+00:00</td>\n",
       "      <td>43</td>\n",
       "      <td>6</td>\n",
       "      <td>user_favorite, user_favorite</td>\n",
       "      <td>female</td>\n",
       "      <td>bullet</td>\n",
       "      <td>1/1/2014</td>\n",
       "    </tr>\n",
       "    <tr>\n",
       "      <th>3</th>\n",
       "      <td>653063</td>\n",
       "      <td>200</td>\n",
       "      <td>200</td>\n",
       "      <td>Embroidery</td>\n",
       "      <td>Arts</td>\n",
       "      <td>to purchase an embroidery machine and a variet...</td>\n",
       "      <td>PK</td>\n",
       "      <td>Pakistan</td>\n",
       "      <td>Lahore</td>\n",
       "      <td>PKR</td>\n",
       "      <td>247.0</td>\n",
       "      <td>2014-01-01 08:03:11+00:00</td>\n",
       "      <td>2013-12-24 08:00:00+00:00</td>\n",
       "      <td>2014-01-01 13:00:00+00:00</td>\n",
       "      <td>11</td>\n",
       "      <td>8</td>\n",
       "      <td>NaN</td>\n",
       "      <td>female</td>\n",
       "      <td>irregular</td>\n",
       "      <td>1/1/2014</td>\n",
       "    </tr>\n",
       "    <tr>\n",
       "      <th>4</th>\n",
       "      <td>653084</td>\n",
       "      <td>400</td>\n",
       "      <td>400</td>\n",
       "      <td>Milk Sales</td>\n",
       "      <td>Food</td>\n",
       "      <td>to purchase one buffalo.</td>\n",
       "      <td>PK</td>\n",
       "      <td>Pakistan</td>\n",
       "      <td>Abdul Hakeem</td>\n",
       "      <td>PKR</td>\n",
       "      <td>245.0</td>\n",
       "      <td>2014-01-01 11:53:19+00:00</td>\n",
       "      <td>2013-12-17 08:00:00+00:00</td>\n",
       "      <td>2014-01-01 19:18:51+00:00</td>\n",
       "      <td>14</td>\n",
       "      <td>16</td>\n",
       "      <td>NaN</td>\n",
       "      <td>female</td>\n",
       "      <td>monthly</td>\n",
       "      <td>1/1/2014</td>\n",
       "    </tr>\n",
       "  </tbody>\n",
       "</table>\n",
       "</div>"
      ],
      "text/plain": [
       "       id  funded_amount  loan_amount             activity          sector  \\\n",
       "0  653051            300          300  Fruits & Vegetables            Food   \n",
       "1  653053            575          575             Rickshaw  Transportation   \n",
       "2  653068            150          150       Transportation  Transportation   \n",
       "3  653063            200          200           Embroidery            Arts   \n",
       "4  653084            400          400           Milk Sales            Food   \n",
       "\n",
       "                                                 use country_code   country  \\\n",
       "0            To buy seasonal, fresh fruits to sell.            PK  Pakistan   \n",
       "1  to repair and maintain the auto rickshaw used ...           PK  Pakistan   \n",
       "2  To repair their old cycle-van and buy another ...           IN     India   \n",
       "3  to purchase an embroidery machine and a variet...           PK  Pakistan   \n",
       "4                           to purchase one buffalo.           PK  Pakistan   \n",
       "\n",
       "         region currency  partner_id                posted_time  \\\n",
       "0        Lahore      PKR       247.0  2014-01-01 06:12:39+00:00   \n",
       "1        Lahore      PKR       247.0  2014-01-01 06:51:08+00:00   \n",
       "2     Maynaguri      INR       334.0  2014-01-01 09:58:07+00:00   \n",
       "3        Lahore      PKR       247.0  2014-01-01 08:03:11+00:00   \n",
       "4  Abdul Hakeem      PKR       245.0  2014-01-01 11:53:19+00:00   \n",
       "\n",
       "              disbursed_time                funded_time  term_in_months  \\\n",
       "0  2013-12-17 08:00:00+00:00  2014-01-02 10:06:32+00:00              12   \n",
       "1  2013-12-17 08:00:00+00:00  2014-01-02 09:17:23+00:00              11   \n",
       "2  2013-12-17 08:00:00+00:00  2014-01-01 16:01:36+00:00              43   \n",
       "3  2013-12-24 08:00:00+00:00  2014-01-01 13:00:00+00:00              11   \n",
       "4  2013-12-17 08:00:00+00:00  2014-01-01 19:18:51+00:00              14   \n",
       "\n",
       "   lender_count                          tags borrower_genders  \\\n",
       "0            12                           NaN           female   \n",
       "1            14                           NaN   female, female   \n",
       "2             6  user_favorite, user_favorite           female   \n",
       "3             8                           NaN           female   \n",
       "4            16                           NaN           female   \n",
       "\n",
       "  repayment_interval      date  \n",
       "0          irregular  1/1/2014  \n",
       "1          irregular  1/1/2014  \n",
       "2             bullet  1/1/2014  \n",
       "3          irregular  1/1/2014  \n",
       "4            monthly  1/1/2014  "
      ]
     },
     "execution_count": 4,
     "metadata": {},
     "output_type": "execute_result"
    }
   ],
   "source": [
    "kiva.head()"
   ]
  },
  {
   "cell_type": "code",
   "execution_count": 6,
   "metadata": {
    "collapsed": false
   },
   "outputs": [
    {
     "name": "stderr",
     "output_type": "stream",
     "text": [
      "//anaconda/lib/python3.5/site-packages/numpy/lib/function_base.py:3834: RuntimeWarning: Invalid value encountered in percentile\n",
      "  RuntimeWarning)\n"
     ]
    },
    {
     "data": {
      "text/html": [
       "<div>\n",
       "<table border=\"1\" class=\"dataframe\">\n",
       "  <thead>\n",
       "    <tr style=\"text-align: right;\">\n",
       "      <th></th>\n",
       "      <th>id</th>\n",
       "      <th>funded_amount</th>\n",
       "      <th>loan_amount</th>\n",
       "      <th>partner_id</th>\n",
       "      <th>term_in_months</th>\n",
       "      <th>lender_count</th>\n",
       "    </tr>\n",
       "  </thead>\n",
       "  <tbody>\n",
       "    <tr>\n",
       "      <th>count</th>\n",
       "      <td>6.712050e+05</td>\n",
       "      <td>671205.000000</td>\n",
       "      <td>671205.000000</td>\n",
       "      <td>657698.000000</td>\n",
       "      <td>671205.000000</td>\n",
       "      <td>671205.000000</td>\n",
       "    </tr>\n",
       "    <tr>\n",
       "      <th>mean</th>\n",
       "      <td>9.932486e+05</td>\n",
       "      <td>785.995061</td>\n",
       "      <td>842.397107</td>\n",
       "      <td>178.199616</td>\n",
       "      <td>13.739022</td>\n",
       "      <td>20.590922</td>\n",
       "    </tr>\n",
       "    <tr>\n",
       "      <th>std</th>\n",
       "      <td>1.966113e+05</td>\n",
       "      <td>1130.398941</td>\n",
       "      <td>1198.660073</td>\n",
       "      <td>94.247581</td>\n",
       "      <td>8.598919</td>\n",
       "      <td>28.459551</td>\n",
       "    </tr>\n",
       "    <tr>\n",
       "      <th>min</th>\n",
       "      <td>6.530470e+05</td>\n",
       "      <td>0.000000</td>\n",
       "      <td>25.000000</td>\n",
       "      <td>9.000000</td>\n",
       "      <td>1.000000</td>\n",
       "      <td>0.000000</td>\n",
       "    </tr>\n",
       "    <tr>\n",
       "      <th>25%</th>\n",
       "      <td>8.230720e+05</td>\n",
       "      <td>250.000000</td>\n",
       "      <td>275.000000</td>\n",
       "      <td>NaN</td>\n",
       "      <td>8.000000</td>\n",
       "      <td>7.000000</td>\n",
       "    </tr>\n",
       "    <tr>\n",
       "      <th>50%</th>\n",
       "      <td>9.927800e+05</td>\n",
       "      <td>450.000000</td>\n",
       "      <td>500.000000</td>\n",
       "      <td>NaN</td>\n",
       "      <td>13.000000</td>\n",
       "      <td>13.000000</td>\n",
       "    </tr>\n",
       "    <tr>\n",
       "      <th>75%</th>\n",
       "      <td>1.163653e+06</td>\n",
       "      <td>900.000000</td>\n",
       "      <td>1000.000000</td>\n",
       "      <td>NaN</td>\n",
       "      <td>14.000000</td>\n",
       "      <td>24.000000</td>\n",
       "    </tr>\n",
       "    <tr>\n",
       "      <th>max</th>\n",
       "      <td>1.340339e+06</td>\n",
       "      <td>100000.000000</td>\n",
       "      <td>100000.000000</td>\n",
       "      <td>536.000000</td>\n",
       "      <td>158.000000</td>\n",
       "      <td>2986.000000</td>\n",
       "    </tr>\n",
       "  </tbody>\n",
       "</table>\n",
       "</div>"
      ],
      "text/plain": [
       "                 id  funded_amount    loan_amount     partner_id  \\\n",
       "count  6.712050e+05  671205.000000  671205.000000  657698.000000   \n",
       "mean   9.932486e+05     785.995061     842.397107     178.199616   \n",
       "std    1.966113e+05    1130.398941    1198.660073      94.247581   \n",
       "min    6.530470e+05       0.000000      25.000000       9.000000   \n",
       "25%    8.230720e+05     250.000000     275.000000            NaN   \n",
       "50%    9.927800e+05     450.000000     500.000000            NaN   \n",
       "75%    1.163653e+06     900.000000    1000.000000            NaN   \n",
       "max    1.340339e+06  100000.000000  100000.000000     536.000000   \n",
       "\n",
       "       term_in_months   lender_count  \n",
       "count   671205.000000  671205.000000  \n",
       "mean        13.739022      20.590922  \n",
       "std          8.598919      28.459551  \n",
       "min          1.000000       0.000000  \n",
       "25%          8.000000       7.000000  \n",
       "50%         13.000000      13.000000  \n",
       "75%         14.000000      24.000000  \n",
       "max        158.000000    2986.000000  "
      ]
     },
     "execution_count": 6,
     "metadata": {},
     "output_type": "execute_result"
    }
   ],
   "source": [
    "kiva.describe()"
   ]
  },
  {
   "cell_type": "code",
   "execution_count": 7,
   "metadata": {
    "collapsed": false
   },
   "outputs": [
    {
     "data": {
      "text/html": [
       "<div>\n",
       "<table border=\"1\" class=\"dataframe\">\n",
       "  <thead>\n",
       "    <tr style=\"text-align: right;\">\n",
       "      <th></th>\n",
       "      <th>activity</th>\n",
       "      <th>sector</th>\n",
       "      <th>use</th>\n",
       "      <th>country_code</th>\n",
       "      <th>country</th>\n",
       "      <th>region</th>\n",
       "      <th>currency</th>\n",
       "      <th>posted_time</th>\n",
       "      <th>disbursed_time</th>\n",
       "      <th>funded_time</th>\n",
       "      <th>tags</th>\n",
       "      <th>borrower_genders</th>\n",
       "      <th>repayment_interval</th>\n",
       "      <th>date</th>\n",
       "    </tr>\n",
       "  </thead>\n",
       "  <tbody>\n",
       "    <tr>\n",
       "      <th>count</th>\n",
       "      <td>671205</td>\n",
       "      <td>671205</td>\n",
       "      <td>666977</td>\n",
       "      <td>671197</td>\n",
       "      <td>671205</td>\n",
       "      <td>614405</td>\n",
       "      <td>671205</td>\n",
       "      <td>671205</td>\n",
       "      <td>668809</td>\n",
       "      <td>622874</td>\n",
       "      <td>499789</td>\n",
       "      <td>666984</td>\n",
       "      <td>671205</td>\n",
       "      <td>671205</td>\n",
       "    </tr>\n",
       "    <tr>\n",
       "      <th>unique</th>\n",
       "      <td>163</td>\n",
       "      <td>15</td>\n",
       "      <td>424913</td>\n",
       "      <td>86</td>\n",
       "      <td>87</td>\n",
       "      <td>12695</td>\n",
       "      <td>67</td>\n",
       "      <td>667399</td>\n",
       "      <td>5719</td>\n",
       "      <td>498007</td>\n",
       "      <td>86719</td>\n",
       "      <td>11298</td>\n",
       "      <td>4</td>\n",
       "      <td>1298</td>\n",
       "    </tr>\n",
       "    <tr>\n",
       "      <th>top</th>\n",
       "      <td>Farming</td>\n",
       "      <td>Agriculture</td>\n",
       "      <td>to buy a water filter to provide safe drinking...</td>\n",
       "      <td>PH</td>\n",
       "      <td>Philippines</td>\n",
       "      <td>Kaduna</td>\n",
       "      <td>PHP</td>\n",
       "      <td>2017-05-15 00:00:00+00:00</td>\n",
       "      <td>2017-02-01 08:00:00+00:00</td>\n",
       "      <td>2016-09-21 13:03:24+00:00</td>\n",
       "      <td>user_favorite</td>\n",
       "      <td>female</td>\n",
       "      <td>monthly</td>\n",
       "      <td>3/20/2017</td>\n",
       "    </tr>\n",
       "    <tr>\n",
       "      <th>freq</th>\n",
       "      <td>72955</td>\n",
       "      <td>180302</td>\n",
       "      <td>5217</td>\n",
       "      <td>160441</td>\n",
       "      <td>160441</td>\n",
       "      <td>10000</td>\n",
       "      <td>160440</td>\n",
       "      <td>25</td>\n",
       "      <td>2800</td>\n",
       "      <td>33</td>\n",
       "      <td>27088</td>\n",
       "      <td>426502</td>\n",
       "      <td>342717</td>\n",
       "      <td>1308</td>\n",
       "    </tr>\n",
       "  </tbody>\n",
       "</table>\n",
       "</div>"
      ],
      "text/plain": [
       "       activity       sector  \\\n",
       "count    671205       671205   \n",
       "unique      163           15   \n",
       "top     Farming  Agriculture   \n",
       "freq      72955       180302   \n",
       "\n",
       "                                                      use country_code  \\\n",
       "count                                              666977       671197   \n",
       "unique                                             424913           86   \n",
       "top     to buy a water filter to provide safe drinking...           PH   \n",
       "freq                                                 5217       160441   \n",
       "\n",
       "            country  region currency                posted_time  \\\n",
       "count        671205  614405   671205                     671205   \n",
       "unique           87   12695       67                     667399   \n",
       "top     Philippines  Kaduna      PHP  2017-05-15 00:00:00+00:00   \n",
       "freq         160441   10000   160440                         25   \n",
       "\n",
       "                   disbursed_time                funded_time           tags  \\\n",
       "count                      668809                     622874         499789   \n",
       "unique                       5719                     498007          86719   \n",
       "top     2017-02-01 08:00:00+00:00  2016-09-21 13:03:24+00:00  user_favorite   \n",
       "freq                         2800                         33          27088   \n",
       "\n",
       "       borrower_genders repayment_interval       date  \n",
       "count            666984             671205     671205  \n",
       "unique            11298                  4       1298  \n",
       "top              female            monthly  3/20/2017  \n",
       "freq             426502             342717       1308  "
      ]
     },
     "execution_count": 7,
     "metadata": {},
     "output_type": "execute_result"
    }
   ],
   "source": [
    "kiva.describe(include=['object'])"
   ]
  },
  {
   "cell_type": "markdown",
   "metadata": {},
   "source": [
    "# Checking Distribution"
   ]
  },
  {
   "cell_type": "code",
   "execution_count": 16,
   "metadata": {
    "collapsed": false
   },
   "outputs": [
    {
     "data": {
      "text/plain": [
       "<matplotlib.axes._subplots.AxesSubplot at 0x115c1c7b8>"
      ]
     },
     "execution_count": 16,
     "metadata": {},
     "output_type": "execute_result"
    },
    {
     "data": {
      "image/png": "[encoded data removed]",
      "text/plain": [
       "<matplotlib.figure.Figure at 0x1147b45f8>"
      ]
     },
     "metadata": {},
     "output_type": "display_data"
    }
   ],
   "source": [
    "kiva.loan_amount.hist()"
   ]
  },
  {
   "cell_type": "code",
   "execution_count": 15,
   "metadata": {
    "collapsed": false
   },
   "outputs": [
    {
     "data": {
      "text/plain": [
       "<matplotlib.axes._subplots.AxesSubplot at 0x1154fa1d0>"
      ]
     },
     "execution_count": 15,
     "metadata": {},
     "output_type": "execute_result"
    },
    {
     "data": {
      "image/png": "[encoded data removed]",
      "text/plain": [
       "<matplotlib.figure.Figure at 0x1143e7780>"
      ]
     },
     "metadata": {},
     "output_type": "display_data"
    }
   ],
   "source": [
    "kiva[kiva.loan_amount<15000].loan_amount.hist(bins=20)"
   ]
  },
  {
   "cell_type": "code",
   "execution_count": 17,
   "metadata": {
    "collapsed": false
   },
   "outputs": [
    {
     "data": {
      "text/plain": [
       "<matplotlib.axes._subplots.AxesSubplot at 0x12849cf28>"
      ]
     },
     "execution_count": 17,
     "metadata": {},
     "output_type": "execute_result"
    },
    {
     "data": {
      "image/png": "[encoded data removed]",
      "text/plain": [
       "<matplotlib.figure.Figure at 0x115cbcc18>"
      ]
     },
     "metadata": {},
     "output_type": "display_data"
    }
   ],
   "source": [
    "kiva[kiva.loan_amount<15000].loan_amount.hist(bins=40)"
   ]
  },
  {
   "cell_type": "code",
   "execution_count": 18,
   "metadata": {
    "collapsed": false
   },
   "outputs": [
    {
     "data": {
      "text/plain": [
       "<matplotlib.axes._subplots.AxesSubplot at 0x115ef1a58>"
      ]
     },
     "execution_count": 18,
     "metadata": {},
     "output_type": "execute_result"
    },
    {
     "data": {
      "image/png": "[encoded data removed]",
      "text/plain": [
       "<matplotlib.figure.Figure at 0x115bbf630>"
      ]
     },
     "metadata": {},
     "output_type": "display_data"
    }
   ],
   "source": [
    "kiva[kiva.loan_amount<10000].loan_amount.hist(bins=40)"
   ]
  },
  {
   "cell_type": "code",
   "execution_count": 19,
   "metadata": {
    "collapsed": false
   },
   "outputs": [
    {
     "data": {
      "text/plain": [
       "<matplotlib.axes._subplots.AxesSubplot at 0x116451860>"
      ]
     },
     "execution_count": 19,
     "metadata": {},
     "output_type": "execute_result"
    },
    {
     "data": {
      "image/png": "[encoded data removed]",
      "text/plain": [
       "<matplotlib.figure.Figure at 0x115eeba20>"
      ]
     },
     "metadata": {},
     "output_type": "display_data"
    }
   ],
   "source": [
    "kiva[kiva.loan_amount<5000].loan_amount.hist(bins=40)"
   ]
  },
  {
   "cell_type": "code",
   "execution_count": 21,
   "metadata": {
    "collapsed": false
   },
   "outputs": [
    {
     "data": {
      "text/plain": [
       "<matplotlib.axes._subplots.AxesSubplot at 0x1164c5b70>"
      ]
     },
     "execution_count": 21,
     "metadata": {},
     "output_type": "execute_result"
    },
    {
     "data": {
      "image/png": "[encoded data removed]",
      "text/plain": [
       "<matplotlib.figure.Figure at 0x116665c50>"
      ]
     },
     "metadata": {},
     "output_type": "display_data"
    }
   ],
   "source": [
    "kiva[kiva.loan_amount<2000].loan_amount.hist(bins=40)"
   ]
  },
  {
   "cell_type": "code",
   "execution_count": 24,
   "metadata": {
    "collapsed": false
   },
   "outputs": [
    {
     "data": {
      "text/plain": [
       "<matplotlib.axes._subplots.AxesSubplot at 0x115ad6dd8>"
      ]
     },
     "execution_count": 24,
     "metadata": {},
     "output_type": "execute_result"
    },
    {
     "data": {
      "image/png": "[encoded data removed]",
      "text/plain": [
       "<matplotlib.figure.Figure at 0x115a882e8>"
      ]
     },
     "metadata": {},
     "output_type": "display_data"
    }
   ],
   "source": [
    "kiva[kiva.loan_amount>2000].loan_amount.hist(bins=40)"
   ]
  },
  {
   "cell_type": "code",
   "execution_count": 28,
   "metadata": {
    "collapsed": false
   },
   "outputs": [
    {
     "data": {
      "text/plain": [
       "<matplotlib.axes._subplots.AxesSubplot at 0x118b11518>"
      ]
     },
     "execution_count": 28,
     "metadata": {},
     "output_type": "execute_result"
    },
    {
     "data": {
      "image/png": "[encoded data removed]",
      "text/plain": [
       "<matplotlib.figure.Figure at 0x118b1a1d0>"
      ]
     },
     "metadata": {},
     "output_type": "display_data"
    }
   ],
   "source": [
    "kiva[(kiva.loan_amount>2000) & (kiva.loan_amount<11000)].loan_amount.hist(bins=40)"
   ]
  },
  {
   "cell_type": "code",
   "execution_count": 31,
   "metadata": {
    "collapsed": false
   },
   "outputs": [
    {
     "data": {
      "text/plain": [
       "<matplotlib.axes._subplots.AxesSubplot at 0x119b594a8>"
      ]
     },
     "execution_count": 31,
     "metadata": {},
     "output_type": "execute_result"
    },
    {
     "data": {
      "image/png": "[encoded data removed]",
      "text/plain": [
       "<matplotlib.figure.Figure at 0x119b630f0>"
      ]
     },
     "metadata": {},
     "output_type": "display_data"
    }
   ],
   "source": [
    "kiva[kiva.loan_amount>11000].loan_amount.hist(bins=20)"
   ]
  },
  {
   "cell_type": "code",
   "execution_count": 12,
   "metadata": {
    "collapsed": false
   },
   "outputs": [
    {
     "name": "stdout",
     "output_type": "stream",
     "text": [
      "id                      int64\n",
      "funded_amount           int64\n",
      "loan_amount             int64\n",
      "activity               object\n",
      "sector                 object\n",
      "use                    object\n",
      "country_code           object\n",
      "country                object\n",
      "region                 object\n",
      "currency               object\n",
      "partner_id            float64\n",
      "posted_time            object\n",
      "disbursed_time         object\n",
      "funded_time            object\n",
      "term_in_months          int64\n",
      "lender_count            int64\n",
      "tags                   object\n",
      "borrower_genders       object\n",
      "repayment_interval     object\n",
      "date                   object\n",
      "dtype: object\n"
     ]
    }
   ],
   "source": [
    "print(kiva.dtypes)"
   ]
  },
  {
   "cell_type": "markdown",
   "metadata": {},
   "source": [
    "I likely only care about\n",
    "- loan amount (maybe look at funded amount - trying to determine why the difference between funded and loan amount)\n",
    "- activity\n",
    "- sector\n",
    "- (only use if can do language processing, so probably not)\n",
    "- country\n",
    "- (only region if can figure out how to deal w/ different spellings)\n",
    "- term_in_months\n",
    "- borrower_genders\n",
    "- repayment_interval\n",
    "- (date only if want to compare w/ conflict - compare year only with ACLED data?  Same year?)"
   ]
  },
  {
   "cell_type": "markdown",
   "metadata": {},
   "source": [
    "# Checking for Null Values"
   ]
  },
  {
   "cell_type": "code",
   "execution_count": 33,
   "metadata": {
    "collapsed": false
   },
   "outputs": [
    {
     "data": {
      "text/plain": [
       "id                         0\n",
       "funded_amount              0\n",
       "loan_amount                0\n",
       "activity                   0\n",
       "sector                     0\n",
       "use                     4228\n",
       "country_code               8\n",
       "country                    0\n",
       "region                 56800\n",
       "currency                   0\n",
       "partner_id             13507\n",
       "posted_time                0\n",
       "disbursed_time          2396\n",
       "funded_time            48331\n",
       "term_in_months             0\n",
       "lender_count               0\n",
       "tags                  171416\n",
       "borrower_genders        4221\n",
       "repayment_interval         0\n",
       "date                       0\n",
       "dtype: int64"
      ]
     },
     "execution_count": 33,
     "metadata": {},
     "output_type": "execute_result"
    }
   ],
   "source": [
    "kiva.isnull().sum()"
   ]
  },
  {
   "cell_type": "code",
   "execution_count": null,
   "metadata": {
    "collapsed": true
   },
   "outputs": [],
   "source": []
  },
  {
   "cell_type": "code",
   "execution_count": null,
   "metadata": {
    "collapsed": true
   },
   "outputs": [],
   "source": []
  },
  {
   "cell_type": "markdown",
   "metadata": {},
   "source": [
    "# Column Metadata (from Kaggle competition)\n",
    "https://www.kaggle.com/kiva/data-science-for-good-kiva-crowdfunding/data\n",
    "\n",
    "id\n",
    "Unique ID for loan\n",
    "\n",
    "Numeric\n",
    "funded_amount\n",
    "The amount disbursed by Kiva to the field agent(USD)\n",
    "\n",
    "Numeric\n",
    "loan_amount\n",
    "The amount disbursed by the field agent to the borrower(USD)\n",
    "\n",
    "Numeric\n",
    "activity\n",
    "More granular category\n",
    "\n",
    "Numeric\n",
    "sector\n",
    "High level category\n",
    "\n",
    "String\n",
    "use\n",
    "Exact usage of loan amount\n",
    "\n",
    "String\n",
    "country_code\n",
    "ISO country code of country in which loan was disbursed\n",
    "\n",
    "String\n",
    "country\n",
    "Full country name of country in which loan was disbursed\n",
    "\n",
    "String\n",
    "region\n",
    "Full region name within the country\n",
    "\n",
    "String\n",
    "currency\n",
    "The currency in which the loan was disbursed\n",
    "\n",
    "Numeric\n",
    "partner_id\n",
    "ID of partner organization\n",
    "\n",
    "String\n",
    "posted_time\n",
    "The time at which the loan is posted on Kiva by the field agent\n",
    "\n",
    "DateTime\n",
    "disbursed_time\n",
    "The time at which the loan is disbursed by the field agent to the borrower\n",
    "\n",
    "DateTime\n",
    "funded_time\n",
    "The time at which the loan posted to Kiva gets funded by lenders completely\n",
    "\n",
    "DateTime\n",
    "term_in_months\n",
    "The duration for which the loan was disbursed in months\n",
    "\n",
    "Numeric\n",
    "lender_count\n",
    "The total number of lenders that contributed to this loan\n",
    "\n",
    "Numeric\n",
    "tags\n",
    "Help us describe this column...\n",
    "String\n",
    "borrower_genders\n",
    "Comma separated M,F letters, where each instance represents a single male/female in the group\n",
    "\n",
    "String\n",
    "repayment_interval\n",
    "Help us describe this column...\n",
    "String\n",
    "date\n",
    "Help us describe this column...\n",
    "DateTime"
   ]
  },
  {
   "cell_type": "code",
   "execution_count": 5,
   "metadata": {
    "collapsed": false
   },
   "outputs": [
    {
     "ename": "AttributeError",
     "evalue": "'DataFrame' object has no attribute 'data'",
     "output_type": "error",
     "traceback": [
      "\u001b[0;31m---------------------------------------------------------------------------\u001b[0m",
      "\u001b[0;31mAttributeError\u001b[0m                            Traceback (most recent call last)",
      "\u001b[0;32m<ipython-input-5-e8c23cc8bd3b>\u001b[0m in \u001b[0;36m<module>\u001b[0;34m()\u001b[0m\n\u001b[0;32m----> 1\u001b[0;31m X = pd.DataFrame(kiva.data,\n\u001b[0m\u001b[1;32m      2\u001b[0m                  columns=kiva.feature_names)\n\u001b[1;32m      3\u001b[0m y = pd.DataFrame(kiva.target,\n\u001b[1;32m      4\u001b[0m                  columns=['loan_amount'])\n\u001b[1;32m      5\u001b[0m \u001b[0;34m\u001b[0m\u001b[0m\n",
      "\u001b[0;32m//anaconda/lib/python3.5/site-packages/pandas/core/generic.py\u001b[0m in \u001b[0;36m__getattr__\u001b[0;34m(self, name)\u001b[0m\n\u001b[1;32m   2670\u001b[0m             \u001b[0;32mif\u001b[0m \u001b[0mname\u001b[0m \u001b[0;32min\u001b[0m \u001b[0mself\u001b[0m\u001b[0;34m.\u001b[0m\u001b[0m_info_axis\u001b[0m\u001b[0;34m:\u001b[0m\u001b[0;34m\u001b[0m\u001b[0m\n\u001b[1;32m   2671\u001b[0m                 \u001b[0;32mreturn\u001b[0m \u001b[0mself\u001b[0m\u001b[0;34m[\u001b[0m\u001b[0mname\u001b[0m\u001b[0;34m]\u001b[0m\u001b[0;34m\u001b[0m\u001b[0m\n\u001b[0;32m-> 2672\u001b[0;31m             \u001b[0;32mreturn\u001b[0m \u001b[0mobject\u001b[0m\u001b[0;34m.\u001b[0m\u001b[0m__getattribute__\u001b[0m\u001b[0;34m(\u001b[0m\u001b[0mself\u001b[0m\u001b[0;34m,\u001b[0m \u001b[0mname\u001b[0m\u001b[0;34m)\u001b[0m\u001b[0;34m\u001b[0m\u001b[0m\n\u001b[0m\u001b[1;32m   2673\u001b[0m \u001b[0;34m\u001b[0m\u001b[0m\n\u001b[1;32m   2674\u001b[0m     \u001b[0;32mdef\u001b[0m \u001b[0m__setattr__\u001b[0m\u001b[0;34m(\u001b[0m\u001b[0mself\u001b[0m\u001b[0;34m,\u001b[0m \u001b[0mname\u001b[0m\u001b[0;34m,\u001b[0m \u001b[0mvalue\u001b[0m\u001b[0;34m)\u001b[0m\u001b[0;34m:\u001b[0m\u001b[0;34m\u001b[0m\u001b[0m\n",
      "\u001b[0;31mAttributeError\u001b[0m: 'DataFrame' object has no attribute 'data'"
     ]
    }
   ],
   "source": [
    "#In order to do this, need to learn how to set up the data for use in scikit learn - how establish feature_names?\n",
    "#Target?  Numpy matrix?\n",
    "#X = pd.DataFrame(kiva,\n",
    "                 #columns=kiva.feature_names)\n",
    "#y = pd.DataFrame(kiva.target,\n",
    "                 #columns=['loan_amount'])\n",
    "\n",
    "#print(kiva['DESCR'])"
   ]
  },
  {
   "cell_type": "code",
   "execution_count": null,
   "metadata": {
    "collapsed": true
   },
   "outputs": [],
   "source": [
    "#IGNORE FOR NOW - this might help me set my target attributes\n",
    "# load the CSV file as a numpy matrix\n",
    "#dataset = np.loadtxt(raw_data, delimiter=\",\")\n",
    "#print(dataset.shape)\n",
    "# separate the data from the target attributes\n",
    "#X = dataset[:,0:7]\n",
    "#y = dataset[:,8]"
   ]
  },
  {
   "cell_type": "code",
   "execution_count": null,
   "metadata": {
    "collapsed": true
   },
   "outputs": [],
   "source": [
    "#don't run this, just use as a reference on how to import CSV - earlier, I had problems with the filepath\n",
    "#movies = pd.read_csv('./data/imdb_1000.csv')\n",
    "#movies.head()"
   ]
  },
  {
   "cell_type": "code",
   "execution_count": null,
   "metadata": {
    "collapsed": true
   },
   "outputs": [],
   "source": []
  },
  {
   "cell_type": "code",
   "execution_count": null,
   "metadata": {
    "collapsed": true
   },
   "outputs": [],
   "source": []
  }
 ],
 "metadata": {
  "anaconda-cloud": {},
  "kernelspec": {
   "display_name": "Python [Root]",
   "language": "python",
   "name": "Python [Root]"
  },
  "language_info": {
   "codemirror_mode": {
    "name": "ipython",
    "version": 3
   },
   "file_extension": ".py",
   "mimetype": "text/x-python",
   "name": "python",
   "nbconvert_exporter": "python",
   "pygments_lexer": "ipython3",
   "version": "3.5.2"
  }
 },
 "nbformat": 4,
 "nbformat_minor": 2
}
